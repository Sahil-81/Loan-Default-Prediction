{
  "nbformat": 4,
  "nbformat_minor": 5,
  "metadata": {
    "kernelspec": {
      "display_name": "Python 3",
      "language": "python",
      "name": "python3"
    },
    "language_info": {
      "codemirror_mode": {
        "name": "ipython",
        "version": 3
      },
      "file_extension": ".py",
      "mimetype": "text/x-python",
      "name": "python",
      "nbconvert_exporter": "python",
      "pygments_lexer": "ipython3",
      "version": "3.7.9"
    },
    "papermill": {
      "default_parameters": {},
      "duration": 24.386587,
      "end_time": "2021-07-01T11:32:18.434452",
      "environment_variables": {},
      "exception": null,
      "input_path": "__notebook__.ipynb",
      "output_path": "__notebook__.ipynb",
      "parameters": {},
      "start_time": "2021-07-01T11:31:54.047865",
      "version": "2.3.2"
    },
    "colab": {
      "name": "loan_prediction.ipynb",
      "provenance": [],
      "collapsed_sections": [
        "stock-thinking"
      ]
    }
  },
  "cells": [
    {
      "cell_type": "markdown",
      "metadata": {
        "papermill": {
          "duration": 0.044516,
          "end_time": "2021-07-01T11:32:00.710180",
          "exception": false,
          "start_time": "2021-07-01T11:32:00.665664",
          "status": "completed"
        },
        "tags": [],
        "id": "thousand-thousand"
      },
      "source": [
        "# Importing the required libraries\n",
        "\n",
        "---\n",
        "\n"
      ],
      "id": "thousand-thousand"
    },
    {
      "cell_type": "code",
      "metadata": {
        "execution": {
          "iopub.execute_input": "2021-07-01T11:32:00.795577Z",
          "iopub.status.busy": "2021-07-01T11:32:00.794127Z",
          "iopub.status.idle": "2021-07-01T11:32:01.899539Z",
          "shell.execute_reply": "2021-07-01T11:32:01.898827Z",
          "shell.execute_reply.started": "2021-07-01T11:17:57.077459Z"
        },
        "papermill": {
          "duration": 1.148997,
          "end_time": "2021-07-01T11:32:01.899712",
          "exception": false,
          "start_time": "2021-07-01T11:32:00.750715",
          "status": "completed"
        },
        "tags": [],
        "id": "continuing-standing"
      },
      "source": [
        "\n",
        "from matplotlib import pyplot as plt\n",
        "import matplotlib\n",
        "%matplotlib inline\n",
        "\n"
      ],
      "id": "continuing-standing",
      "execution_count": null,
      "outputs": []
    },
    {
      "cell_type": "code",
      "source": [
        "import numpy as np \n",
        "import pandas as pd\n",
        "\n",
        "import seaborn as sns\n",
        "from tqdm import tqdm\n",
        "\n",
        "from sklearn.model_selection import train_test_split\n",
        "from sklearn.impute import SimpleImputer\n",
        "from sklearn.metrics import accuracy_score\n",
        "from sklearn.metrics import roc_auc_score\n",
        "from sklearn.linear_model import LogisticRegression\n",
        "from sklearn.linear_model import LinearRegression\n",
        "from sklearn.neighbors import KNeighborsClassifier\n",
        "from sklearn.tree import DecisionTreeClassifier\n",
        "from sklearn.svm import SVC\n",
        "from sklearn.ensemble import AdaBoostClassifier\n",
        "from sklearn.ensemble import RandomForestClassifier\n",
        "from sklearn.ensemble import ExtraTreesClassifier\n",
        "from sklearn.naive_bayes import GaussianNB\n",
        "import xgboost as xgb\n",
        "        "
      ],
      "metadata": {
        "id": "NoN2_MYpo73y"
      },
      "id": "NoN2_MYpo73y",
      "execution_count": null,
      "outputs": []
    },
    {
      "cell_type": "markdown",
      "metadata": {
        "papermill": {
          "duration": 0.044207,
          "end_time": "2021-07-01T11:32:01.984700",
          "exception": false,
          "start_time": "2021-07-01T11:32:01.940493",
          "status": "completed"
        },
        "tags": [],
        "id": "adequate-hampshire"
      },
      "source": [
        "# Loading the Dataset"
      ],
      "id": "adequate-hampshire"
    },
    {
      "cell_type": "code",
      "metadata": {
        "execution": {
          "iopub.execute_input": "2021-07-01T11:32:02.071936Z",
          "iopub.status.busy": "2021-07-01T11:32:02.071237Z",
          "iopub.status.idle": "2021-07-01T11:32:02.156258Z",
          "shell.execute_reply": "2021-07-01T11:32:02.156878Z",
          "shell.execute_reply.started": "2021-07-01T11:17:57.090689Z"
        },
        "papermill": {
          "duration": 0.129363,
          "end_time": "2021-07-01T11:32:02.157066",
          "exception": false,
          "start_time": "2021-07-01T11:32:02.027703",
          "status": "completed"
        },
        "tags": [],
        "id": "numerous-house",
        "colab": {
          "base_uri": "https://localhost:8080/",
          "height": 505
        },
        "outputId": "5a803c9d-3477-4318-9d70-e7c5a660fc46"
      },
      "source": [
        "df = pd.read_csv('train.csv')\n",
        "df"
      ],
      "id": "numerous-house",
      "execution_count": null,
      "outputs": [
        {
          "output_type": "execute_result",
          "data": {
            "text/html": [
              "\n",
              "  <div id=\"df-205b9f0e-5738-4a29-b510-07de50eea92e\">\n",
              "    <div class=\"colab-df-container\">\n",
              "      <div>\n",
              "<style scoped>\n",
              "    .dataframe tbody tr th:only-of-type {\n",
              "        vertical-align: middle;\n",
              "    }\n",
              "\n",
              "    .dataframe tbody tr th {\n",
              "        vertical-align: top;\n",
              "    }\n",
              "\n",
              "    .dataframe thead th {\n",
              "        text-align: right;\n",
              "    }\n",
              "</style>\n",
              "<table border=\"1\" class=\"dataframe\">\n",
              "  <thead>\n",
              "    <tr style=\"text-align: right;\">\n",
              "      <th></th>\n",
              "      <th>Loan_ID</th>\n",
              "      <th>Gender</th>\n",
              "      <th>Married</th>\n",
              "      <th>Dependents</th>\n",
              "      <th>Education</th>\n",
              "      <th>Self_Employed</th>\n",
              "      <th>ApplicantIncome</th>\n",
              "      <th>CoapplicantIncome</th>\n",
              "      <th>LoanAmount</th>\n",
              "      <th>Loan_Amount_Term</th>\n",
              "      <th>Credit_History</th>\n",
              "      <th>Property_Area</th>\n",
              "      <th>Loan_Status</th>\n",
              "    </tr>\n",
              "  </thead>\n",
              "  <tbody>\n",
              "    <tr>\n",
              "      <th>0</th>\n",
              "      <td>LP001002</td>\n",
              "      <td>Male</td>\n",
              "      <td>No</td>\n",
              "      <td>0.0</td>\n",
              "      <td>Graduate</td>\n",
              "      <td>No</td>\n",
              "      <td>5849</td>\n",
              "      <td>0.0</td>\n",
              "      <td>NaN</td>\n",
              "      <td>360.0</td>\n",
              "      <td>1.0</td>\n",
              "      <td>Urban</td>\n",
              "      <td>Y</td>\n",
              "    </tr>\n",
              "    <tr>\n",
              "      <th>1</th>\n",
              "      <td>LP001003</td>\n",
              "      <td>Male</td>\n",
              "      <td>Yes</td>\n",
              "      <td>1.0</td>\n",
              "      <td>Graduate</td>\n",
              "      <td>No</td>\n",
              "      <td>4583</td>\n",
              "      <td>1508.0</td>\n",
              "      <td>128.0</td>\n",
              "      <td>360.0</td>\n",
              "      <td>1.0</td>\n",
              "      <td>Rural</td>\n",
              "      <td>N</td>\n",
              "    </tr>\n",
              "    <tr>\n",
              "      <th>2</th>\n",
              "      <td>LP001005</td>\n",
              "      <td>Male</td>\n",
              "      <td>Yes</td>\n",
              "      <td>0.0</td>\n",
              "      <td>Graduate</td>\n",
              "      <td>Yes</td>\n",
              "      <td>3000</td>\n",
              "      <td>0.0</td>\n",
              "      <td>66.0</td>\n",
              "      <td>360.0</td>\n",
              "      <td>1.0</td>\n",
              "      <td>Urban</td>\n",
              "      <td>Y</td>\n",
              "    </tr>\n",
              "    <tr>\n",
              "      <th>3</th>\n",
              "      <td>LP001006</td>\n",
              "      <td>Male</td>\n",
              "      <td>Yes</td>\n",
              "      <td>0.0</td>\n",
              "      <td>Not Graduate</td>\n",
              "      <td>No</td>\n",
              "      <td>2583</td>\n",
              "      <td>2358.0</td>\n",
              "      <td>120.0</td>\n",
              "      <td>360.0</td>\n",
              "      <td>1.0</td>\n",
              "      <td>Urban</td>\n",
              "      <td>Y</td>\n",
              "    </tr>\n",
              "    <tr>\n",
              "      <th>4</th>\n",
              "      <td>LP001008</td>\n",
              "      <td>Male</td>\n",
              "      <td>No</td>\n",
              "      <td>0.0</td>\n",
              "      <td>Graduate</td>\n",
              "      <td>No</td>\n",
              "      <td>6000</td>\n",
              "      <td>0.0</td>\n",
              "      <td>141.0</td>\n",
              "      <td>360.0</td>\n",
              "      <td>1.0</td>\n",
              "      <td>Urban</td>\n",
              "      <td>Y</td>\n",
              "    </tr>\n",
              "    <tr>\n",
              "      <th>...</th>\n",
              "      <td>...</td>\n",
              "      <td>...</td>\n",
              "      <td>...</td>\n",
              "      <td>...</td>\n",
              "      <td>...</td>\n",
              "      <td>...</td>\n",
              "      <td>...</td>\n",
              "      <td>...</td>\n",
              "      <td>...</td>\n",
              "      <td>...</td>\n",
              "      <td>...</td>\n",
              "      <td>...</td>\n",
              "      <td>...</td>\n",
              "    </tr>\n",
              "    <tr>\n",
              "      <th>609</th>\n",
              "      <td>LP002978</td>\n",
              "      <td>Female</td>\n",
              "      <td>No</td>\n",
              "      <td>0.0</td>\n",
              "      <td>Graduate</td>\n",
              "      <td>No</td>\n",
              "      <td>2900</td>\n",
              "      <td>0.0</td>\n",
              "      <td>71.0</td>\n",
              "      <td>360.0</td>\n",
              "      <td>1.0</td>\n",
              "      <td>Rural</td>\n",
              "      <td>Y</td>\n",
              "    </tr>\n",
              "    <tr>\n",
              "      <th>610</th>\n",
              "      <td>LP002979</td>\n",
              "      <td>Male</td>\n",
              "      <td>Yes</td>\n",
              "      <td>3.0</td>\n",
              "      <td>Graduate</td>\n",
              "      <td>No</td>\n",
              "      <td>4106</td>\n",
              "      <td>0.0</td>\n",
              "      <td>40.0</td>\n",
              "      <td>180.0</td>\n",
              "      <td>1.0</td>\n",
              "      <td>Rural</td>\n",
              "      <td>Y</td>\n",
              "    </tr>\n",
              "    <tr>\n",
              "      <th>611</th>\n",
              "      <td>LP002983</td>\n",
              "      <td>Male</td>\n",
              "      <td>Yes</td>\n",
              "      <td>1.0</td>\n",
              "      <td>Graduate</td>\n",
              "      <td>No</td>\n",
              "      <td>8072</td>\n",
              "      <td>240.0</td>\n",
              "      <td>253.0</td>\n",
              "      <td>360.0</td>\n",
              "      <td>1.0</td>\n",
              "      <td>Urban</td>\n",
              "      <td>Y</td>\n",
              "    </tr>\n",
              "    <tr>\n",
              "      <th>612</th>\n",
              "      <td>LP002984</td>\n",
              "      <td>Male</td>\n",
              "      <td>Yes</td>\n",
              "      <td>2.0</td>\n",
              "      <td>Graduate</td>\n",
              "      <td>No</td>\n",
              "      <td>7583</td>\n",
              "      <td>0.0</td>\n",
              "      <td>187.0</td>\n",
              "      <td>360.0</td>\n",
              "      <td>1.0</td>\n",
              "      <td>Urban</td>\n",
              "      <td>Y</td>\n",
              "    </tr>\n",
              "    <tr>\n",
              "      <th>613</th>\n",
              "      <td>LP002990</td>\n",
              "      <td>Female</td>\n",
              "      <td>No</td>\n",
              "      <td>0.0</td>\n",
              "      <td>Graduate</td>\n",
              "      <td>Yes</td>\n",
              "      <td>4583</td>\n",
              "      <td>0.0</td>\n",
              "      <td>133.0</td>\n",
              "      <td>360.0</td>\n",
              "      <td>0.0</td>\n",
              "      <td>Semiurban</td>\n",
              "      <td>N</td>\n",
              "    </tr>\n",
              "  </tbody>\n",
              "</table>\n",
              "<p>614 rows × 13 columns</p>\n",
              "</div>\n",
              "      <button class=\"colab-df-convert\" onclick=\"convertToInteractive('df-205b9f0e-5738-4a29-b510-07de50eea92e')\"\n",
              "              title=\"Convert this dataframe to an interactive table.\"\n",
              "              style=\"display:none;\">\n",
              "        \n",
              "  <svg xmlns=\"http://www.w3.org/2000/svg\" height=\"24px\"viewBox=\"0 0 24 24\"\n",
              "       width=\"24px\">\n",
              "    <path d=\"M0 0h24v24H0V0z\" fill=\"none\"/>\n",
              "    <path d=\"M18.56 5.44l.94 2.06.94-2.06 2.06-.94-2.06-.94-.94-2.06-.94 2.06-2.06.94zm-11 1L8.5 8.5l.94-2.06 2.06-.94-2.06-.94L8.5 2.5l-.94 2.06-2.06.94zm10 10l.94 2.06.94-2.06 2.06-.94-2.06-.94-.94-2.06-.94 2.06-2.06.94z\"/><path d=\"M17.41 7.96l-1.37-1.37c-.4-.4-.92-.59-1.43-.59-.52 0-1.04.2-1.43.59L10.3 9.45l-7.72 7.72c-.78.78-.78 2.05 0 2.83L4 21.41c.39.39.9.59 1.41.59.51 0 1.02-.2 1.41-.59l7.78-7.78 2.81-2.81c.8-.78.8-2.07 0-2.86zM5.41 20L4 18.59l7.72-7.72 1.47 1.35L5.41 20z\"/>\n",
              "  </svg>\n",
              "      </button>\n",
              "      \n",
              "  <style>\n",
              "    .colab-df-container {\n",
              "      display:flex;\n",
              "      flex-wrap:wrap;\n",
              "      gap: 12px;\n",
              "    }\n",
              "\n",
              "    .colab-df-convert {\n",
              "      background-color: #E8F0FE;\n",
              "      border: none;\n",
              "      border-radius: 50%;\n",
              "      cursor: pointer;\n",
              "      display: none;\n",
              "      fill: #1967D2;\n",
              "      height: 32px;\n",
              "      padding: 0 0 0 0;\n",
              "      width: 32px;\n",
              "    }\n",
              "\n",
              "    .colab-df-convert:hover {\n",
              "      background-color: #E2EBFA;\n",
              "      box-shadow: 0px 1px 2px rgba(60, 64, 67, 0.3), 0px 1px 3px 1px rgba(60, 64, 67, 0.15);\n",
              "      fill: #174EA6;\n",
              "    }\n",
              "\n",
              "    [theme=dark] .colab-df-convert {\n",
              "      background-color: #3B4455;\n",
              "      fill: #D2E3FC;\n",
              "    }\n",
              "\n",
              "    [theme=dark] .colab-df-convert:hover {\n",
              "      background-color: #434B5C;\n",
              "      box-shadow: 0px 1px 3px 1px rgba(0, 0, 0, 0.15);\n",
              "      filter: drop-shadow(0px 1px 2px rgba(0, 0, 0, 0.3));\n",
              "      fill: #FFFFFF;\n",
              "    }\n",
              "  </style>\n",
              "\n",
              "      <script>\n",
              "        const buttonEl =\n",
              "          document.querySelector('#df-205b9f0e-5738-4a29-b510-07de50eea92e button.colab-df-convert');\n",
              "        buttonEl.style.display =\n",
              "          google.colab.kernel.accessAllowed ? 'block' : 'none';\n",
              "\n",
              "        async function convertToInteractive(key) {\n",
              "          const element = document.querySelector('#df-205b9f0e-5738-4a29-b510-07de50eea92e');\n",
              "          const dataTable =\n",
              "            await google.colab.kernel.invokeFunction('convertToInteractive',\n",
              "                                                     [key], {});\n",
              "          if (!dataTable) return;\n",
              "\n",
              "          const docLinkHtml = 'Like what you see? Visit the ' +\n",
              "            '<a target=\"_blank\" href=https://colab.research.google.com/notebooks/data_table.ipynb>data table notebook</a>'\n",
              "            + ' to learn more about interactive tables.';\n",
              "          element.innerHTML = '';\n",
              "          dataTable['output_type'] = 'display_data';\n",
              "          await google.colab.output.renderOutput(dataTable, element);\n",
              "          const docLink = document.createElement('div');\n",
              "          docLink.innerHTML = docLinkHtml;\n",
              "          element.appendChild(docLink);\n",
              "        }\n",
              "      </script>\n",
              "    </div>\n",
              "  </div>\n",
              "  "
            ],
            "text/plain": [
              "      Loan_ID  Gender Married  ...  Credit_History Property_Area Loan_Status\n",
              "0    LP001002    Male      No  ...             1.0         Urban           Y\n",
              "1    LP001003    Male     Yes  ...             1.0         Rural           N\n",
              "2    LP001005    Male     Yes  ...             1.0         Urban           Y\n",
              "3    LP001006    Male     Yes  ...             1.0         Urban           Y\n",
              "4    LP001008    Male      No  ...             1.0         Urban           Y\n",
              "..        ...     ...     ...  ...             ...           ...         ...\n",
              "609  LP002978  Female      No  ...             1.0         Rural           Y\n",
              "610  LP002979    Male     Yes  ...             1.0         Rural           Y\n",
              "611  LP002983    Male     Yes  ...             1.0         Urban           Y\n",
              "612  LP002984    Male     Yes  ...             1.0         Urban           Y\n",
              "613  LP002990  Female      No  ...             0.0     Semiurban           N\n",
              "\n",
              "[614 rows x 13 columns]"
            ]
          },
          "metadata": {},
          "execution_count": 6
        }
      ]
    },
    {
      "cell_type": "markdown",
      "metadata": {
        "papermill": {
          "duration": 0.050532,
          "end_time": "2021-07-01T11:32:02.264389",
          "exception": false,
          "start_time": "2021-07-01T11:32:02.213857",
          "status": "completed"
        },
        "tags": [],
        "id": "completed-increase"
      },
      "source": [
        "# Dataset Info"
      ],
      "id": "completed-increase"
    },
    {
      "cell_type": "code",
      "metadata": {
        "execution": {
          "iopub.execute_input": "2021-07-01T11:32:02.369088Z",
          "iopub.status.busy": "2021-07-01T11:32:02.361210Z",
          "iopub.status.idle": "2021-07-01T11:32:02.373990Z",
          "shell.execute_reply": "2021-07-01T11:32:02.374459Z",
          "shell.execute_reply.started": "2021-07-01T11:17:57.178453Z"
        },
        "papermill": {
          "duration": 0.066366,
          "end_time": "2021-07-01T11:32:02.374636",
          "exception": false,
          "start_time": "2021-07-01T11:32:02.308270",
          "status": "completed"
        },
        "tags": [],
        "id": "taken-spencer",
        "colab": {
          "base_uri": "https://localhost:8080/"
        },
        "outputId": "114ebdee-7981-42f6-8a81-0b25f992b9bf"
      },
      "source": [
        "df.info()"
      ],
      "id": "taken-spencer",
      "execution_count": null,
      "outputs": [
        {
          "output_type": "stream",
          "name": "stdout",
          "text": [
            "<class 'pandas.core.frame.DataFrame'>\n",
            "RangeIndex: 614 entries, 0 to 613\n",
            "Data columns (total 13 columns):\n",
            " #   Column             Non-Null Count  Dtype  \n",
            "---  ------             --------------  -----  \n",
            " 0   Loan_ID            614 non-null    object \n",
            " 1   Gender             601 non-null    object \n",
            " 2   Married            611 non-null    object \n",
            " 3   Dependents         599 non-null    float64\n",
            " 4   Education          614 non-null    object \n",
            " 5   Self_Employed      582 non-null    object \n",
            " 6   ApplicantIncome    614 non-null    int64  \n",
            " 7   CoapplicantIncome  614 non-null    float64\n",
            " 8   LoanAmount         592 non-null    float64\n",
            " 9   Loan_Amount_Term   600 non-null    float64\n",
            " 10  Credit_History     564 non-null    float64\n",
            " 11  Property_Area      614 non-null    object \n",
            " 12  Loan_Status        614 non-null    object \n",
            "dtypes: float64(5), int64(1), object(7)\n",
            "memory usage: 62.5+ KB\n"
          ]
        }
      ]
    },
    {
      "cell_type": "code",
      "metadata": {
        "execution": {
          "iopub.execute_input": "2021-07-01T11:32:02.464026Z",
          "iopub.status.busy": "2021-07-01T11:32:02.461803Z",
          "iopub.status.idle": "2021-07-01T11:32:02.496486Z",
          "shell.execute_reply": "2021-07-01T11:32:02.496963Z",
          "shell.execute_reply.started": "2021-07-01T11:17:57.206859Z"
        },
        "papermill": {
          "duration": 0.081243,
          "end_time": "2021-07-01T11:32:02.497149",
          "exception": false,
          "start_time": "2021-07-01T11:32:02.415906",
          "status": "completed"
        },
        "tags": [],
        "id": "armed-regulation",
        "colab": {
          "base_uri": "https://localhost:8080/",
          "height": 300
        },
        "outputId": "ceb46cba-30c2-43de-b483-d1d1be21bf37"
      },
      "source": [
        "df.describe()"
      ],
      "id": "armed-regulation",
      "execution_count": null,
      "outputs": [
        {
          "output_type": "execute_result",
          "data": {
            "text/html": [
              "\n",
              "  <div id=\"df-63843bea-85aa-42ad-a483-40725aafc27d\">\n",
              "    <div class=\"colab-df-container\">\n",
              "      <div>\n",
              "<style scoped>\n",
              "    .dataframe tbody tr th:only-of-type {\n",
              "        vertical-align: middle;\n",
              "    }\n",
              "\n",
              "    .dataframe tbody tr th {\n",
              "        vertical-align: top;\n",
              "    }\n",
              "\n",
              "    .dataframe thead th {\n",
              "        text-align: right;\n",
              "    }\n",
              "</style>\n",
              "<table border=\"1\" class=\"dataframe\">\n",
              "  <thead>\n",
              "    <tr style=\"text-align: right;\">\n",
              "      <th></th>\n",
              "      <th>Dependents</th>\n",
              "      <th>ApplicantIncome</th>\n",
              "      <th>CoapplicantIncome</th>\n",
              "      <th>LoanAmount</th>\n",
              "      <th>Loan_Amount_Term</th>\n",
              "      <th>Credit_History</th>\n",
              "    </tr>\n",
              "  </thead>\n",
              "  <tbody>\n",
              "    <tr>\n",
              "      <th>count</th>\n",
              "      <td>599.000000</td>\n",
              "      <td>614.000000</td>\n",
              "      <td>614.000000</td>\n",
              "      <td>592.000000</td>\n",
              "      <td>600.00000</td>\n",
              "      <td>564.000000</td>\n",
              "    </tr>\n",
              "    <tr>\n",
              "      <th>mean</th>\n",
              "      <td>0.762938</td>\n",
              "      <td>5403.459283</td>\n",
              "      <td>1621.245798</td>\n",
              "      <td>146.412162</td>\n",
              "      <td>342.00000</td>\n",
              "      <td>0.842199</td>\n",
              "    </tr>\n",
              "    <tr>\n",
              "      <th>std</th>\n",
              "      <td>1.015216</td>\n",
              "      <td>6109.041673</td>\n",
              "      <td>2926.248369</td>\n",
              "      <td>85.587325</td>\n",
              "      <td>65.12041</td>\n",
              "      <td>0.364878</td>\n",
              "    </tr>\n",
              "    <tr>\n",
              "      <th>min</th>\n",
              "      <td>0.000000</td>\n",
              "      <td>150.000000</td>\n",
              "      <td>0.000000</td>\n",
              "      <td>9.000000</td>\n",
              "      <td>12.00000</td>\n",
              "      <td>0.000000</td>\n",
              "    </tr>\n",
              "    <tr>\n",
              "      <th>25%</th>\n",
              "      <td>0.000000</td>\n",
              "      <td>2877.500000</td>\n",
              "      <td>0.000000</td>\n",
              "      <td>100.000000</td>\n",
              "      <td>360.00000</td>\n",
              "      <td>1.000000</td>\n",
              "    </tr>\n",
              "    <tr>\n",
              "      <th>50%</th>\n",
              "      <td>0.000000</td>\n",
              "      <td>3812.500000</td>\n",
              "      <td>1188.500000</td>\n",
              "      <td>128.000000</td>\n",
              "      <td>360.00000</td>\n",
              "      <td>1.000000</td>\n",
              "    </tr>\n",
              "    <tr>\n",
              "      <th>75%</th>\n",
              "      <td>2.000000</td>\n",
              "      <td>5795.000000</td>\n",
              "      <td>2297.250000</td>\n",
              "      <td>168.000000</td>\n",
              "      <td>360.00000</td>\n",
              "      <td>1.000000</td>\n",
              "    </tr>\n",
              "    <tr>\n",
              "      <th>max</th>\n",
              "      <td>3.000000</td>\n",
              "      <td>81000.000000</td>\n",
              "      <td>41667.000000</td>\n",
              "      <td>700.000000</td>\n",
              "      <td>480.00000</td>\n",
              "      <td>1.000000</td>\n",
              "    </tr>\n",
              "  </tbody>\n",
              "</table>\n",
              "</div>\n",
              "      <button class=\"colab-df-convert\" onclick=\"convertToInteractive('df-63843bea-85aa-42ad-a483-40725aafc27d')\"\n",
              "              title=\"Convert this dataframe to an interactive table.\"\n",
              "              style=\"display:none;\">\n",
              "        \n",
              "  <svg xmlns=\"http://www.w3.org/2000/svg\" height=\"24px\"viewBox=\"0 0 24 24\"\n",
              "       width=\"24px\">\n",
              "    <path d=\"M0 0h24v24H0V0z\" fill=\"none\"/>\n",
              "    <path d=\"M18.56 5.44l.94 2.06.94-2.06 2.06-.94-2.06-.94-.94-2.06-.94 2.06-2.06.94zm-11 1L8.5 8.5l.94-2.06 2.06-.94-2.06-.94L8.5 2.5l-.94 2.06-2.06.94zm10 10l.94 2.06.94-2.06 2.06-.94-2.06-.94-.94-2.06-.94 2.06-2.06.94z\"/><path d=\"M17.41 7.96l-1.37-1.37c-.4-.4-.92-.59-1.43-.59-.52 0-1.04.2-1.43.59L10.3 9.45l-7.72 7.72c-.78.78-.78 2.05 0 2.83L4 21.41c.39.39.9.59 1.41.59.51 0 1.02-.2 1.41-.59l7.78-7.78 2.81-2.81c.8-.78.8-2.07 0-2.86zM5.41 20L4 18.59l7.72-7.72 1.47 1.35L5.41 20z\"/>\n",
              "  </svg>\n",
              "      </button>\n",
              "      \n",
              "  <style>\n",
              "    .colab-df-container {\n",
              "      display:flex;\n",
              "      flex-wrap:wrap;\n",
              "      gap: 12px;\n",
              "    }\n",
              "\n",
              "    .colab-df-convert {\n",
              "      background-color: #E8F0FE;\n",
              "      border: none;\n",
              "      border-radius: 50%;\n",
              "      cursor: pointer;\n",
              "      display: none;\n",
              "      fill: #1967D2;\n",
              "      height: 32px;\n",
              "      padding: 0 0 0 0;\n",
              "      width: 32px;\n",
              "    }\n",
              "\n",
              "    .colab-df-convert:hover {\n",
              "      background-color: #E2EBFA;\n",
              "      box-shadow: 0px 1px 2px rgba(60, 64, 67, 0.3), 0px 1px 3px 1px rgba(60, 64, 67, 0.15);\n",
              "      fill: #174EA6;\n",
              "    }\n",
              "\n",
              "    [theme=dark] .colab-df-convert {\n",
              "      background-color: #3B4455;\n",
              "      fill: #D2E3FC;\n",
              "    }\n",
              "\n",
              "    [theme=dark] .colab-df-convert:hover {\n",
              "      background-color: #434B5C;\n",
              "      box-shadow: 0px 1px 3px 1px rgba(0, 0, 0, 0.15);\n",
              "      filter: drop-shadow(0px 1px 2px rgba(0, 0, 0, 0.3));\n",
              "      fill: #FFFFFF;\n",
              "    }\n",
              "  </style>\n",
              "\n",
              "      <script>\n",
              "        const buttonEl =\n",
              "          document.querySelector('#df-63843bea-85aa-42ad-a483-40725aafc27d button.colab-df-convert');\n",
              "        buttonEl.style.display =\n",
              "          google.colab.kernel.accessAllowed ? 'block' : 'none';\n",
              "\n",
              "        async function convertToInteractive(key) {\n",
              "          const element = document.querySelector('#df-63843bea-85aa-42ad-a483-40725aafc27d');\n",
              "          const dataTable =\n",
              "            await google.colab.kernel.invokeFunction('convertToInteractive',\n",
              "                                                     [key], {});\n",
              "          if (!dataTable) return;\n",
              "\n",
              "          const docLinkHtml = 'Like what you see? Visit the ' +\n",
              "            '<a target=\"_blank\" href=https://colab.research.google.com/notebooks/data_table.ipynb>data table notebook</a>'\n",
              "            + ' to learn more about interactive tables.';\n",
              "          element.innerHTML = '';\n",
              "          dataTable['output_type'] = 'display_data';\n",
              "          await google.colab.output.renderOutput(dataTable, element);\n",
              "          const docLink = document.createElement('div');\n",
              "          docLink.innerHTML = docLinkHtml;\n",
              "          element.appendChild(docLink);\n",
              "        }\n",
              "      </script>\n",
              "    </div>\n",
              "  </div>\n",
              "  "
            ],
            "text/plain": [
              "       Dependents  ApplicantIncome  ...  Loan_Amount_Term  Credit_History\n",
              "count  599.000000       614.000000  ...         600.00000      564.000000\n",
              "mean     0.762938      5403.459283  ...         342.00000        0.842199\n",
              "std      1.015216      6109.041673  ...          65.12041        0.364878\n",
              "min      0.000000       150.000000  ...          12.00000        0.000000\n",
              "25%      0.000000      2877.500000  ...         360.00000        1.000000\n",
              "50%      0.000000      3812.500000  ...         360.00000        1.000000\n",
              "75%      2.000000      5795.000000  ...         360.00000        1.000000\n",
              "max      3.000000     81000.000000  ...         480.00000        1.000000\n",
              "\n",
              "[8 rows x 6 columns]"
            ]
          },
          "metadata": {},
          "execution_count": 8
        }
      ]
    },
    {
      "cell_type": "markdown",
      "metadata": {
        "papermill": {
          "duration": 0.046194,
          "end_time": "2021-07-01T11:32:02.585127",
          "exception": false,
          "start_time": "2021-07-01T11:32:02.538933",
          "status": "completed"
        },
        "tags": [],
        "id": "retired-personal"
      },
      "source": [
        "# Preprocessing of the dataset"
      ],
      "id": "retired-personal"
    },
    {
      "cell_type": "code",
      "metadata": {
        "execution": {
          "iopub.execute_input": "2021-07-01T11:32:02.676349Z",
          "iopub.status.busy": "2021-07-01T11:32:02.675338Z",
          "iopub.status.idle": "2021-07-01T11:32:02.686443Z",
          "shell.execute_reply": "2021-07-01T11:32:02.685788Z",
          "shell.execute_reply.started": "2021-07-01T11:17:57.252973Z"
        },
        "papermill": {
          "duration": 0.058884,
          "end_time": "2021-07-01T11:32:02.686590",
          "exception": false,
          "start_time": "2021-07-01T11:32:02.627706",
          "status": "completed"
        },
        "tags": [],
        "id": "native-cardiff",
        "colab": {
          "base_uri": "https://localhost:8080/"
        },
        "outputId": "decf9eaf-4aa7-4f24-a801-5bf5ed0f6bec"
      },
      "source": [
        "#finding null values in dataset\n",
        "df.isnull().sum()"
      ],
      "id": "native-cardiff",
      "execution_count": null,
      "outputs": [
        {
          "output_type": "execute_result",
          "data": {
            "text/plain": [
              "Loan_ID               0\n",
              "Gender               13\n",
              "Married               3\n",
              "Dependents           15\n",
              "Education             0\n",
              "Self_Employed        32\n",
              "ApplicantIncome       0\n",
              "CoapplicantIncome     0\n",
              "LoanAmount           22\n",
              "Loan_Amount_Term     14\n",
              "Credit_History       50\n",
              "Property_Area         0\n",
              "Loan_Status           0\n",
              "dtype: int64"
            ]
          },
          "metadata": {},
          "execution_count": 9
        }
      ]
    },
    {
      "cell_type": "code",
      "metadata": {
        "execution": {
          "iopub.execute_input": "2021-07-01T11:32:02.781754Z",
          "iopub.status.busy": "2021-07-01T11:32:02.780180Z",
          "iopub.status.idle": "2021-07-01T11:32:02.784443Z",
          "shell.execute_reply": "2021-07-01T11:32:02.783749Z",
          "shell.execute_reply.started": "2021-07-01T11:17:57.268049Z"
        },
        "papermill": {
          "duration": 0.055352,
          "end_time": "2021-07-01T11:32:02.784587",
          "exception": false,
          "start_time": "2021-07-01T11:32:02.729235",
          "status": "completed"
        },
        "tags": [],
        "id": "nonprofit-locking"
      },
      "source": [
        "#filling the missing value of categorivccal data\n",
        "df['Gender'] = df[\"Gender\"].fillna(df['Gender'].mode()[0])\n",
        "df['Married'] = df[\"Married\"].fillna(df['Married'].mode()[0])\n",
        "df['Self_Employed'] = df[\"Self_Employed\"].fillna(df['Self_Employed'].mode()[0])\n",
        "df['Dependents'] = df[\"Dependents\"].fillna(df['Dependents'].mode()[0])"
      ],
      "id": "nonprofit-locking",
      "execution_count": null,
      "outputs": []
    },
    {
      "cell_type": "code",
      "metadata": {
        "execution": {
          "iopub.execute_input": "2021-07-01T11:32:02.872875Z",
          "iopub.status.busy": "2021-07-01T11:32:02.872005Z",
          "iopub.status.idle": "2021-07-01T11:32:02.877198Z",
          "shell.execute_reply": "2021-07-01T11:32:02.876654Z",
          "shell.execute_reply.started": "2021-07-01T11:17:57.283557Z"
        },
        "papermill": {
          "duration": 0.052086,
          "end_time": "2021-07-01T11:32:02.877356",
          "exception": false,
          "start_time": "2021-07-01T11:32:02.825270",
          "status": "completed"
        },
        "tags": [],
        "id": "infectious-grade",
        "colab": {
          "base_uri": "https://localhost:8080/"
        },
        "outputId": "b87b18cc-f849-4f15-f2b5-8a1b3e1d4f4a"
      },
      "source": [
        "df['Credit_History'].unique()"
      ],
      "id": "infectious-grade",
      "execution_count": null,
      "outputs": [
        {
          "output_type": "execute_result",
          "data": {
            "text/plain": [
              "array([ 1.,  0., nan])"
            ]
          },
          "metadata": {},
          "execution_count": 11
        }
      ]
    },
    {
      "cell_type": "code",
      "metadata": {
        "execution": {
          "iopub.execute_input": "2021-07-01T11:32:02.969035Z",
          "iopub.status.busy": "2021-07-01T11:32:02.967910Z",
          "iopub.status.idle": "2021-07-01T11:32:03.114486Z",
          "shell.execute_reply": "2021-07-01T11:32:03.113872Z",
          "shell.execute_reply.started": "2021-07-01T11:17:57.300116Z"
        },
        "papermill": {
          "duration": 0.195432,
          "end_time": "2021-07-01T11:32:03.114629",
          "exception": false,
          "start_time": "2021-07-01T11:32:02.919197",
          "status": "completed"
        },
        "tags": [],
        "id": "interesting-morgan",
        "colab": {
          "base_uri": "https://localhost:8080/",
          "height": 352
        },
        "outputId": "1e34d248-c972-4a4a-8747-4010cd8ca3f5"
      },
      "source": [
        "sns.countplot(\"Credit_History\", data=df)"
      ],
      "id": "interesting-morgan",
      "execution_count": null,
      "outputs": [
        {
          "output_type": "stream",
          "name": "stderr",
          "text": [
            "/usr/local/lib/python3.7/dist-packages/seaborn/_decorators.py:43: FutureWarning: Pass the following variable as a keyword arg: x. From version 0.12, the only valid positional argument will be `data`, and passing other arguments without an explicit keyword will result in an error or misinterpretation.\n",
            "  FutureWarning\n"
          ]
        },
        {
          "output_type": "execute_result",
          "data": {
            "text/plain": [
              "<matplotlib.axes._subplots.AxesSubplot at 0x7f460129dcd0>"
            ]
          },
          "metadata": {},
          "execution_count": 12
        },
        {
          "output_type": "display_data",
          "data": {
            "image/png": "[encoded data removed]",
            "text/plain": [
              "<Figure size 432x288 with 1 Axes>"
            ]
          },
          "metadata": {
            "needs_background": "light"
          }
        }
      ]
    },
    {
      "cell_type": "code",
      "metadata": {
        "execution": {
          "iopub.execute_input": "2021-07-01T11:32:03.204158Z",
          "iopub.status.busy": "2021-07-01T11:32:03.203509Z",
          "iopub.status.idle": "2021-07-01T11:32:03.206086Z",
          "shell.execute_reply": "2021-07-01T11:32:03.206737Z",
          "shell.execute_reply.started": "2021-07-01T11:17:57.462259Z"
        },
        "papermill": {
          "duration": 0.048745,
          "end_time": "2021-07-01T11:32:03.206918",
          "exception": false,
          "start_time": "2021-07-01T11:32:03.158173",
          "status": "completed"
        },
        "tags": [],
        "id": "interpreted-paste"
      },
      "source": [
        "# We are replacing credit history NaN values with mode because\n",
        "\n",
        "# credit history has only 2 unique values and replacing it with mode is better idea"
      ],
      "id": "interpreted-paste",
      "execution_count": null,
      "outputs": []
    },
    {
      "cell_type": "code",
      "metadata": {
        "execution": {
          "iopub.execute_input": "2021-07-01T11:32:03.297745Z",
          "iopub.status.busy": "2021-07-01T11:32:03.297100Z",
          "iopub.status.idle": "2021-07-01T11:32:03.303949Z",
          "shell.execute_reply": "2021-07-01T11:32:03.303391Z",
          "shell.execute_reply.started": "2021-07-01T11:17:57.468567Z"
        },
        "papermill": {
          "duration": 0.053997,
          "end_time": "2021-07-01T11:32:03.304089",
          "exception": false,
          "start_time": "2021-07-01T11:32:03.250092",
          "status": "completed"
        },
        "tags": [],
        "id": "baking-empire"
      },
      "source": [
        "df['Credit_History'] = df[\"Credit_History\"].fillna(df['Credit_History'].mode()[0])"
      ],
      "id": "baking-empire",
      "execution_count": null,
      "outputs": []
    },
    {
      "cell_type": "code",
      "metadata": {
        "execution": {
          "iopub.execute_input": "2021-07-01T11:32:03.393971Z",
          "iopub.status.busy": "2021-07-01T11:32:03.393294Z",
          "iopub.status.idle": "2021-07-01T11:32:03.602405Z",
          "shell.execute_reply": "2021-07-01T11:32:03.602924Z",
          "shell.execute_reply.started": "2021-07-01T11:17:57.489295Z"
        },
        "papermill": {
          "duration": 0.257425,
          "end_time": "2021-07-01T11:32:03.603101",
          "exception": false,
          "start_time": "2021-07-01T11:32:03.345676",
          "status": "completed"
        },
        "tags": [],
        "id": "roman-isolation",
        "colab": {
          "base_uri": "https://localhost:8080/",
          "height": 285
        },
        "outputId": "195e0b7c-9f52-4b5b-dc82-79f6d8334806"
      },
      "source": [
        "splot = sns.countplot(x ='Loan_Amount_Term', data = df)\n",
        "for p in splot.patches:\n",
        "    splot.annotate(format(p.get_height(), '.2f'), (p.get_x() + p.get_width() / 2., p.get_height()), ha = 'center', va = 'center', xytext = (0, 10), textcoords = 'offset points')"
      ],
      "id": "roman-isolation",
      "execution_count": null,
      "outputs": [
        {
          "output_type": "display_data",
          "data": {
            "image/png": "[encoded data removed]",
            "text/plain": [
              "<Figure size 432x288 with 1 Axes>"
            ]
          },
          "metadata": {
            "needs_background": "light"
          }
        }
      ]
    },
    {
      "cell_type": "code",
      "metadata": {
        "execution": {
          "iopub.execute_input": "2021-07-01T11:32:03.692366Z",
          "iopub.status.busy": "2021-07-01T11:32:03.691683Z",
          "iopub.status.idle": "2021-07-01T11:32:03.694980Z",
          "shell.execute_reply": "2021-07-01T11:32:03.695576Z",
          "shell.execute_reply.started": "2021-07-01T11:17:57.710064Z"
        },
        "papermill": {
          "duration": 0.048953,
          "end_time": "2021-07-01T11:32:03.695769",
          "exception": false,
          "start_time": "2021-07-01T11:32:03.646816",
          "status": "completed"
        },
        "tags": [],
        "id": "international-secret"
      },
      "source": [
        "# We are replcing NaN values of Loan_Amount_Term with mode because\n",
        "# 360 has the highest number of occurence"
      ],
      "id": "international-secret",
      "execution_count": null,
      "outputs": []
    },
    {
      "cell_type": "code",
      "metadata": {
        "execution": {
          "iopub.execute_input": "2021-07-01T11:32:03.789416Z",
          "iopub.status.busy": "2021-07-01T11:32:03.788679Z",
          "iopub.status.idle": "2021-07-01T11:32:03.794873Z",
          "shell.execute_reply": "2021-07-01T11:32:03.794193Z",
          "shell.execute_reply.started": "2021-07-01T11:17:57.718338Z"
        },
        "papermill": {
          "duration": 0.054168,
          "end_time": "2021-07-01T11:32:03.795023",
          "exception": false,
          "start_time": "2021-07-01T11:32:03.740855",
          "status": "completed"
        },
        "tags": [],
        "id": "alleged-commitment"
      },
      "source": [
        "df['Loan_Amount_Term'] = df[\"Loan_Amount_Term\"].fillna(df['Loan_Amount_Term'].mode()[0])"
      ],
      "id": "alleged-commitment",
      "execution_count": null,
      "outputs": []
    },
    {
      "cell_type": "code",
      "metadata": {
        "execution": {
          "iopub.execute_input": "2021-07-01T11:32:03.886571Z",
          "iopub.status.busy": "2021-07-01T11:32:03.885906Z",
          "iopub.status.idle": "2021-07-01T11:32:07.187246Z",
          "shell.execute_reply": "2021-07-01T11:32:07.187729Z",
          "shell.execute_reply.started": "2021-07-01T11:17:57.732799Z"
        },
        "papermill": {
          "duration": 3.349029,
          "end_time": "2021-07-01T11:32:07.187911",
          "exception": false,
          "start_time": "2021-07-01T11:32:03.838882",
          "status": "completed"
        },
        "tags": [],
        "id": "yellow-richards",
        "colab": {
          "base_uri": "https://localhost:8080/",
          "height": 284
        },
        "outputId": "1059f86e-115f-40cf-9d39-88bf116f41af"
      },
      "source": [
        "splot = sns.countplot(x ='LoanAmount', data = df)\n",
        "for p in splot.patches:\n",
        "    splot.annotate(format(p.get_height(), '.2f'), (p.get_x() + p.get_width() / 2., p.get_height()), ha = 'center', va = 'center', xytext = (0, 10), textcoords = 'offset points')"
      ],
      "id": "yellow-richards",
      "execution_count": null,
      "outputs": [
        {
          "output_type": "display_data",
          "data": {
            "image/png": "[encoded data removed]",
            "text/plain": [
              "<Figure size 432x288 with 1 Axes>"
            ]
          },
          "metadata": {
            "needs_background": "light"
          }
        }
      ]
    },
    {
      "cell_type": "code",
      "metadata": {
        "execution": {
          "iopub.execute_input": "2021-07-01T11:32:07.284995Z",
          "iopub.status.busy": "2021-07-01T11:32:07.283982Z",
          "iopub.status.idle": "2021-07-01T11:32:07.287562Z",
          "shell.execute_reply": "2021-07-01T11:32:07.286896Z",
          "shell.execute_reply.started": "2021-07-01T11:18:01.138747Z"
        },
        "papermill": {
          "duration": 0.055781,
          "end_time": "2021-07-01T11:32:07.287707",
          "exception": false,
          "start_time": "2021-07-01T11:32:07.231926",
          "status": "completed"
        },
        "tags": [],
        "id": "challenging-coast"
      },
      "source": [
        "# Here we cannot replace the null values with mode.\n",
        "# Here mean or median will be a better option. \n",
        "# We have to check for outliers before replcing NaN values with mean or median."
      ],
      "id": "challenging-coast",
      "execution_count": null,
      "outputs": []
    },
    {
      "cell_type": "code",
      "metadata": {
        "execution": {
          "iopub.execute_input": "2021-07-01T11:32:07.386140Z",
          "iopub.status.busy": "2021-07-01T11:32:07.384466Z",
          "iopub.status.idle": "2021-07-01T11:32:07.390776Z",
          "shell.execute_reply": "2021-07-01T11:32:07.390109Z",
          "shell.execute_reply.started": "2021-07-01T11:18:01.142949Z"
        },
        "papermill": {
          "duration": 0.057144,
          "end_time": "2021-07-01T11:32:07.390966",
          "exception": false,
          "start_time": "2021-07-01T11:32:07.333822",
          "status": "completed"
        },
        "tags": [],
        "id": "collaborative-offering"
      },
      "source": [
        "# Checking for outliers in \"LoanAmount\"\n",
        "\n",
        "Q1 = df['LoanAmount'].quantile(0.25)\n",
        "Q3 = df['LoanAmount'].quantile(0.75)\n",
        "IQR = Q3 - Q1"
      ],
      "id": "collaborative-offering",
      "execution_count": null,
      "outputs": []
    },
    {
      "cell_type": "code",
      "metadata": {
        "execution": {
          "iopub.execute_input": "2021-07-01T11:32:07.487009Z",
          "iopub.status.busy": "2021-07-01T11:32:07.486036Z",
          "iopub.status.idle": "2021-07-01T11:32:07.489712Z",
          "shell.execute_reply": "2021-07-01T11:32:07.490189Z",
          "shell.execute_reply.started": "2021-07-01T11:18:01.165498Z"
        },
        "papermill": {
          "duration": 0.054018,
          "end_time": "2021-07-01T11:32:07.490381",
          "exception": false,
          "start_time": "2021-07-01T11:32:07.436363",
          "status": "completed"
        },
        "tags": [],
        "id": "favorite-demographic",
        "colab": {
          "base_uri": "https://localhost:8080/"
        },
        "outputId": "3db44cf5-7085-45f6-b512-1166612bdbf3"
      },
      "source": [
        "low_lim = Q1 - 1.5 * IQR\n",
        "up_lim = Q3 + 1.5 * IQR\n",
        "print('low_limit is', low_lim)\n",
        "print('up_limit is', up_lim)"
      ],
      "id": "favorite-demographic",
      "execution_count": null,
      "outputs": [
        {
          "output_type": "stream",
          "name": "stdout",
          "text": [
            "low_limit is -2.0\n",
            "up_limit is 270.0\n"
          ]
        }
      ]
    },
    {
      "cell_type": "code",
      "metadata": {
        "execution": {
          "iopub.execute_input": "2021-07-01T11:32:07.587888Z",
          "iopub.status.busy": "2021-07-01T11:32:07.587019Z",
          "iopub.status.idle": "2021-07-01T11:32:07.590641Z",
          "shell.execute_reply": "2021-07-01T11:32:07.590138Z",
          "shell.execute_reply.started": "2021-07-01T11:18:01.182108Z"
        },
        "papermill": {
          "duration": 0.055422,
          "end_time": "2021-07-01T11:32:07.590785",
          "exception": false,
          "start_time": "2021-07-01T11:32:07.535363",
          "status": "completed"
        },
        "tags": [],
        "id": "veterinary-subdivision",
        "colab": {
          "base_uri": "https://localhost:8080/"
        },
        "outputId": "5f54cba2-63e5-4364-ebbc-cab611b6451d"
      },
      "source": [
        "outlier = []\n",
        "for x in df['LoanAmount']:\n",
        "    if ((x > up_lim) or (x < low_lim)):\n",
        "         outlier.append(x)\n",
        "print('Outlier in the dataset is', outlier)"
      ],
      "id": "veterinary-subdivision",
      "execution_count": null,
      "outputs": [
        {
          "output_type": "stream",
          "name": "stdout",
          "text": [
            "Outlier in the dataset is [349.0, 315.0, 320.0, 286.0, 312.0, 370.0, 650.0, 290.0, 600.0, 275.0, 700.0, 495.0, 280.0, 279.0, 304.0, 330.0, 436.0, 480.0, 300.0, 376.0, 490.0, 308.0, 570.0, 380.0, 296.0, 275.0, 360.0, 405.0, 500.0, 480.0, 311.0, 480.0, 400.0, 324.0, 600.0, 275.0, 292.0, 350.0, 496.0]\n"
          ]
        }
      ]
    },
    {
      "cell_type": "code",
      "metadata": {
        "execution": {
          "iopub.execute_input": "2021-07-01T11:32:07.687966Z",
          "iopub.status.busy": "2021-07-01T11:32:07.687085Z",
          "iopub.status.idle": "2021-07-01T11:32:07.691945Z",
          "shell.execute_reply": "2021-07-01T11:32:07.691264Z",
          "shell.execute_reply.started": "2021-07-01T11:18:01.193820Z"
        },
        "papermill": {
          "duration": 0.056277,
          "end_time": "2021-07-01T11:32:07.692088",
          "exception": false,
          "start_time": "2021-07-01T11:32:07.635811",
          "status": "completed"
        },
        "tags": [],
        "id": "systematic-rolling",
        "colab": {
          "base_uri": "https://localhost:8080/"
        },
        "outputId": "2fc6b38d-0f8c-463e-b5c0-ce8696a126f8"
      },
      "source": [
        "len(outlier)"
      ],
      "id": "systematic-rolling",
      "execution_count": null,
      "outputs": [
        {
          "output_type": "execute_result",
          "data": {
            "text/plain": [
              "39"
            ]
          },
          "metadata": {},
          "execution_count": 23
        }
      ]
    },
    {
      "cell_type": "code",
      "metadata": {
        "execution": {
          "iopub.execute_input": "2021-07-01T11:32:07.788441Z",
          "iopub.status.busy": "2021-07-01T11:32:07.787778Z",
          "iopub.status.idle": "2021-07-01T11:32:07.791035Z",
          "shell.execute_reply": "2021-07-01T11:32:07.790358Z",
          "shell.execute_reply.started": "2021-07-01T11:18:01.210805Z"
        },
        "papermill": {
          "duration": 0.05377,
          "end_time": "2021-07-01T11:32:07.791177",
          "exception": false,
          "start_time": "2021-07-01T11:32:07.737407",
          "status": "completed"
        },
        "tags": [],
        "id": "geographic-prime"
      },
      "source": [
        "# 6.5% of data is in outlier so we will not remove the outliers from the dataset.\n",
        "# We will replace the NaN values with median because median is not affected by outliers."
      ],
      "id": "geographic-prime",
      "execution_count": null,
      "outputs": []
    },
    {
      "cell_type": "code",
      "metadata": {
        "execution": {
          "iopub.execute_input": "2021-07-01T11:32:07.891409Z",
          "iopub.status.busy": "2021-07-01T11:32:07.890587Z",
          "iopub.status.idle": "2021-07-01T11:32:07.895051Z",
          "shell.execute_reply": "2021-07-01T11:32:07.894406Z",
          "shell.execute_reply.started": "2021-07-01T11:18:01.223108Z"
        },
        "papermill": {
          "duration": 0.057003,
          "end_time": "2021-07-01T11:32:07.895203",
          "exception": false,
          "start_time": "2021-07-01T11:32:07.838200",
          "status": "completed"
        },
        "tags": [],
        "id": "racial-parts"
      },
      "source": [
        "df['LoanAmount'] = df[\"LoanAmount\"].fillna(df['LoanAmount'].median())"
      ],
      "id": "racial-parts",
      "execution_count": null,
      "outputs": []
    },
    {
      "cell_type": "code",
      "metadata": {
        "execution": {
          "iopub.execute_input": "2021-07-01T11:32:07.995509Z",
          "iopub.status.busy": "2021-07-01T11:32:07.994762Z",
          "iopub.status.idle": "2021-07-01T11:32:08.155208Z",
          "shell.execute_reply": "2021-07-01T11:32:08.154533Z",
          "shell.execute_reply.started": "2021-07-01T11:18:01.235023Z"
        },
        "papermill": {
          "duration": 0.213758,
          "end_time": "2021-07-01T11:32:08.155373",
          "exception": false,
          "start_time": "2021-07-01T11:32:07.941615",
          "status": "completed"
        },
        "tags": [],
        "id": "durable-phase",
        "colab": {
          "base_uri": "https://localhost:8080/",
          "height": 505
        },
        "outputId": "62a9613f-626b-47f5-8831-dad8b2af4ace"
      },
      "source": [
        "df['Total_Income'] = df['ApplicantIncome'] + df['CoapplicantIncome']\n",
        "df"
      ],
      "id": "durable-phase",
      "execution_count": null,
      "outputs": [
        {
          "output_type": "execute_result",
          "data": {
            "text/html": [
              "\n",
              "  <div id=\"df-b99ed26a-741a-4c17-a93d-05c4a3082366\">\n",
              "    <div class=\"colab-df-container\">\n",
              "      <div>\n",
              "<style scoped>\n",
              "    .dataframe tbody tr th:only-of-type {\n",
              "        vertical-align: middle;\n",
              "    }\n",
              "\n",
              "    .dataframe tbody tr th {\n",
              "        vertical-align: top;\n",
              "    }\n",
              "\n",
              "    .dataframe thead th {\n",
              "        text-align: right;\n",
              "    }\n",
              "</style>\n",
              "<table border=\"1\" class=\"dataframe\">\n",
              "  <thead>\n",
              "    <tr style=\"text-align: right;\">\n",
              "      <th></th>\n",
              "      <th>Loan_ID</th>\n",
              "      <th>Gender</th>\n",
              "      <th>Married</th>\n",
              "      <th>Dependents</th>\n",
              "      <th>Education</th>\n",
              "      <th>Self_Employed</th>\n",
              "      <th>ApplicantIncome</th>\n",
              "      <th>CoapplicantIncome</th>\n",
              "      <th>LoanAmount</th>\n",
              "      <th>Loan_Amount_Term</th>\n",
              "      <th>Credit_History</th>\n",
              "      <th>Property_Area</th>\n",
              "      <th>Loan_Status</th>\n",
              "      <th>Total_Income</th>\n",
              "    </tr>\n",
              "  </thead>\n",
              "  <tbody>\n",
              "    <tr>\n",
              "      <th>0</th>\n",
              "      <td>LP001002</td>\n",
              "      <td>Male</td>\n",
              "      <td>No</td>\n",
              "      <td>0.0</td>\n",
              "      <td>Graduate</td>\n",
              "      <td>No</td>\n",
              "      <td>5849</td>\n",
              "      <td>0.0</td>\n",
              "      <td>128.0</td>\n",
              "      <td>360.0</td>\n",
              "      <td>1.0</td>\n",
              "      <td>Urban</td>\n",
              "      <td>Y</td>\n",
              "      <td>5849.0</td>\n",
              "    </tr>\n",
              "    <tr>\n",
              "      <th>1</th>\n",
              "      <td>LP001003</td>\n",
              "      <td>Male</td>\n",
              "      <td>Yes</td>\n",
              "      <td>1.0</td>\n",
              "      <td>Graduate</td>\n",
              "      <td>No</td>\n",
              "      <td>4583</td>\n",
              "      <td>1508.0</td>\n",
              "      <td>128.0</td>\n",
              "      <td>360.0</td>\n",
              "      <td>1.0</td>\n",
              "      <td>Rural</td>\n",
              "      <td>N</td>\n",
              "      <td>6091.0</td>\n",
              "    </tr>\n",
              "    <tr>\n",
              "      <th>2</th>\n",
              "      <td>LP001005</td>\n",
              "      <td>Male</td>\n",
              "      <td>Yes</td>\n",
              "      <td>0.0</td>\n",
              "      <td>Graduate</td>\n",
              "      <td>Yes</td>\n",
              "      <td>3000</td>\n",
              "      <td>0.0</td>\n",
              "      <td>66.0</td>\n",
              "      <td>360.0</td>\n",
              "      <td>1.0</td>\n",
              "      <td>Urban</td>\n",
              "      <td>Y</td>\n",
              "      <td>3000.0</td>\n",
              "    </tr>\n",
              "    <tr>\n",
              "      <th>3</th>\n",
              "      <td>LP001006</td>\n",
              "      <td>Male</td>\n",
              "      <td>Yes</td>\n",
              "      <td>0.0</td>\n",
              "      <td>Not Graduate</td>\n",
              "      <td>No</td>\n",
              "      <td>2583</td>\n",
              "      <td>2358.0</td>\n",
              "      <td>120.0</td>\n",
              "      <td>360.0</td>\n",
              "      <td>1.0</td>\n",
              "      <td>Urban</td>\n",
              "      <td>Y</td>\n",
              "      <td>4941.0</td>\n",
              "    </tr>\n",
              "    <tr>\n",
              "      <th>4</th>\n",
              "      <td>LP001008</td>\n",
              "      <td>Male</td>\n",
              "      <td>No</td>\n",
              "      <td>0.0</td>\n",
              "      <td>Graduate</td>\n",
              "      <td>No</td>\n",
              "      <td>6000</td>\n",
              "      <td>0.0</td>\n",
              "      <td>141.0</td>\n",
              "      <td>360.0</td>\n",
              "      <td>1.0</td>\n",
              "      <td>Urban</td>\n",
              "      <td>Y</td>\n",
              "      <td>6000.0</td>\n",
              "    </tr>\n",
              "    <tr>\n",
              "      <th>...</th>\n",
              "      <td>...</td>\n",
              "      <td>...</td>\n",
              "      <td>...</td>\n",
              "      <td>...</td>\n",
              "      <td>...</td>\n",
              "      <td>...</td>\n",
              "      <td>...</td>\n",
              "      <td>...</td>\n",
              "      <td>...</td>\n",
              "      <td>...</td>\n",
              "      <td>...</td>\n",
              "      <td>...</td>\n",
              "      <td>...</td>\n",
              "      <td>...</td>\n",
              "    </tr>\n",
              "    <tr>\n",
              "      <th>609</th>\n",
              "      <td>LP002978</td>\n",
              "      <td>Female</td>\n",
              "      <td>No</td>\n",
              "      <td>0.0</td>\n",
              "      <td>Graduate</td>\n",
              "      <td>No</td>\n",
              "      <td>2900</td>\n",
              "      <td>0.0</td>\n",
              "      <td>71.0</td>\n",
              "      <td>360.0</td>\n",
              "      <td>1.0</td>\n",
              "      <td>Rural</td>\n",
              "      <td>Y</td>\n",
              "      <td>2900.0</td>\n",
              "    </tr>\n",
              "    <tr>\n",
              "      <th>610</th>\n",
              "      <td>LP002979</td>\n",
              "      <td>Male</td>\n",
              "      <td>Yes</td>\n",
              "      <td>3.0</td>\n",
              "      <td>Graduate</td>\n",
              "      <td>No</td>\n",
              "      <td>4106</td>\n",
              "      <td>0.0</td>\n",
              "      <td>40.0</td>\n",
              "      <td>180.0</td>\n",
              "      <td>1.0</td>\n",
              "      <td>Rural</td>\n",
              "      <td>Y</td>\n",
              "      <td>4106.0</td>\n",
              "    </tr>\n",
              "    <tr>\n",
              "      <th>611</th>\n",
              "      <td>LP002983</td>\n",
              "      <td>Male</td>\n",
              "      <td>Yes</td>\n",
              "      <td>1.0</td>\n",
              "      <td>Graduate</td>\n",
              "      <td>No</td>\n",
              "      <td>8072</td>\n",
              "      <td>240.0</td>\n",
              "      <td>253.0</td>\n",
              "      <td>360.0</td>\n",
              "      <td>1.0</td>\n",
              "      <td>Urban</td>\n",
              "      <td>Y</td>\n",
              "      <td>8312.0</td>\n",
              "    </tr>\n",
              "    <tr>\n",
              "      <th>612</th>\n",
              "      <td>LP002984</td>\n",
              "      <td>Male</td>\n",
              "      <td>Yes</td>\n",
              "      <td>2.0</td>\n",
              "      <td>Graduate</td>\n",
              "      <td>No</td>\n",
              "      <td>7583</td>\n",
              "      <td>0.0</td>\n",
              "      <td>187.0</td>\n",
              "      <td>360.0</td>\n",
              "      <td>1.0</td>\n",
              "      <td>Urban</td>\n",
              "      <td>Y</td>\n",
              "      <td>7583.0</td>\n",
              "    </tr>\n",
              "    <tr>\n",
              "      <th>613</th>\n",
              "      <td>LP002990</td>\n",
              "      <td>Female</td>\n",
              "      <td>No</td>\n",
              "      <td>0.0</td>\n",
              "      <td>Graduate</td>\n",
              "      <td>Yes</td>\n",
              "      <td>4583</td>\n",
              "      <td>0.0</td>\n",
              "      <td>133.0</td>\n",
              "      <td>360.0</td>\n",
              "      <td>0.0</td>\n",
              "      <td>Semiurban</td>\n",
              "      <td>N</td>\n",
              "      <td>4583.0</td>\n",
              "    </tr>\n",
              "  </tbody>\n",
              "</table>\n",
              "<p>614 rows × 14 columns</p>\n",
              "</div>\n",
              "      <button class=\"colab-df-convert\" onclick=\"convertToInteractive('df-b99ed26a-741a-4c17-a93d-05c4a3082366')\"\n",
              "              title=\"Convert this dataframe to an interactive table.\"\n",
              "              style=\"display:none;\">\n",
              "        \n",
              "  <svg xmlns=\"http://www.w3.org/2000/svg\" height=\"24px\"viewBox=\"0 0 24 24\"\n",
              "       width=\"24px\">\n",
              "    <path d=\"M0 0h24v24H0V0z\" fill=\"none\"/>\n",
              "    <path d=\"M18.56 5.44l.94 2.06.94-2.06 2.06-.94-2.06-.94-.94-2.06-.94 2.06-2.06.94zm-11 1L8.5 8.5l.94-2.06 2.06-.94-2.06-.94L8.5 2.5l-.94 2.06-2.06.94zm10 10l.94 2.06.94-2.06 2.06-.94-2.06-.94-.94-2.06-.94 2.06-2.06.94z\"/><path d=\"M17.41 7.96l-1.37-1.37c-.4-.4-.92-.59-1.43-.59-.52 0-1.04.2-1.43.59L10.3 9.45l-7.72 7.72c-.78.78-.78 2.05 0 2.83L4 21.41c.39.39.9.59 1.41.59.51 0 1.02-.2 1.41-.59l7.78-7.78 2.81-2.81c.8-.78.8-2.07 0-2.86zM5.41 20L4 18.59l7.72-7.72 1.47 1.35L5.41 20z\"/>\n",
              "  </svg>\n",
              "      </button>\n",
              "      \n",
              "  <style>\n",
              "    .colab-df-container {\n",
              "      display:flex;\n",
              "      flex-wrap:wrap;\n",
              "      gap: 12px;\n",
              "    }\n",
              "\n",
              "    .colab-df-convert {\n",
              "      background-color: #E8F0FE;\n",
              "      border: none;\n",
              "      border-radius: 50%;\n",
              "      cursor: pointer;\n",
              "      display: none;\n",
              "      fill: #1967D2;\n",
              "      height: 32px;\n",
              "      padding: 0 0 0 0;\n",
              "      width: 32px;\n",
              "    }\n",
              "\n",
              "    .colab-df-convert:hover {\n",
              "      background-color: #E2EBFA;\n",
              "      box-shadow: 0px 1px 2px rgba(60, 64, 67, 0.3), 0px 1px 3px 1px rgba(60, 64, 67, 0.15);\n",
              "      fill: #174EA6;\n",
              "    }\n",
              "\n",
              "    [theme=dark] .colab-df-convert {\n",
              "      background-color: #3B4455;\n",
              "      fill: #D2E3FC;\n",
              "    }\n",
              "\n",
              "    [theme=dark] .colab-df-convert:hover {\n",
              "      background-color: #434B5C;\n",
              "      box-shadow: 0px 1px 3px 1px rgba(0, 0, 0, 0.15);\n",
              "      filter: drop-shadow(0px 1px 2px rgba(0, 0, 0, 0.3));\n",
              "      fill: #FFFFFF;\n",
              "    }\n",
              "  </style>\n",
              "\n",
              "      <script>\n",
              "        const buttonEl =\n",
              "          document.querySelector('#df-b99ed26a-741a-4c17-a93d-05c4a3082366 button.colab-df-convert');\n",
              "        buttonEl.style.display =\n",
              "          google.colab.kernel.accessAllowed ? 'block' : 'none';\n",
              "\n",
              "        async function convertToInteractive(key) {\n",
              "          const element = document.querySelector('#df-b99ed26a-741a-4c17-a93d-05c4a3082366');\n",
              "          const dataTable =\n",
              "            await google.colab.kernel.invokeFunction('convertToInteractive',\n",
              "                                                     [key], {});\n",
              "          if (!dataTable) return;\n",
              "\n",
              "          const docLinkHtml = 'Like what you see? Visit the ' +\n",
              "            '<a target=\"_blank\" href=https://colab.research.google.com/notebooks/data_table.ipynb>data table notebook</a>'\n",
              "            + ' to learn more about interactive tables.';\n",
              "          element.innerHTML = '';\n",
              "          dataTable['output_type'] = 'display_data';\n",
              "          await google.colab.output.renderOutput(dataTable, element);\n",
              "          const docLink = document.createElement('div');\n",
              "          docLink.innerHTML = docLinkHtml;\n",
              "          element.appendChild(docLink);\n",
              "        }\n",
              "      </script>\n",
              "    </div>\n",
              "  </div>\n",
              "  "
            ],
            "text/plain": [
              "      Loan_ID  Gender Married  ...  Property_Area Loan_Status Total_Income\n",
              "0    LP001002    Male      No  ...          Urban           Y       5849.0\n",
              "1    LP001003    Male     Yes  ...          Rural           N       6091.0\n",
              "2    LP001005    Male     Yes  ...          Urban           Y       3000.0\n",
              "3    LP001006    Male     Yes  ...          Urban           Y       4941.0\n",
              "4    LP001008    Male      No  ...          Urban           Y       6000.0\n",
              "..        ...     ...     ...  ...            ...         ...          ...\n",
              "609  LP002978  Female      No  ...          Rural           Y       2900.0\n",
              "610  LP002979    Male     Yes  ...          Rural           Y       4106.0\n",
              "611  LP002983    Male     Yes  ...          Urban           Y       8312.0\n",
              "612  LP002984    Male     Yes  ...          Urban           Y       7583.0\n",
              "613  LP002990  Female      No  ...      Semiurban           N       4583.0\n",
              "\n",
              "[614 rows x 14 columns]"
            ]
          },
          "metadata": {},
          "execution_count": 26
        }
      ]
    },
    {
      "cell_type": "code",
      "metadata": {
        "colab": {
          "base_uri": "https://localhost:8080/"
        },
        "id": "XnL0FHpMb3MZ",
        "outputId": "0e9fc55e-d116-4c7a-e61a-23f6b7ab994a"
      },
      "source": [
        "df.info()"
      ],
      "id": "XnL0FHpMb3MZ",
      "execution_count": null,
      "outputs": [
        {
          "output_type": "stream",
          "name": "stdout",
          "text": [
            "<class 'pandas.core.frame.DataFrame'>\n",
            "RangeIndex: 614 entries, 0 to 613\n",
            "Data columns (total 14 columns):\n",
            " #   Column             Non-Null Count  Dtype  \n",
            "---  ------             --------------  -----  \n",
            " 0   Loan_ID            614 non-null    object \n",
            " 1   Gender             614 non-null    object \n",
            " 2   Married            614 non-null    object \n",
            " 3   Dependents         614 non-null    float64\n",
            " 4   Education          614 non-null    object \n",
            " 5   Self_Employed      614 non-null    object \n",
            " 6   ApplicantIncome    614 non-null    int64  \n",
            " 7   CoapplicantIncome  614 non-null    float64\n",
            " 8   LoanAmount         614 non-null    float64\n",
            " 9   Loan_Amount_Term   614 non-null    float64\n",
            " 10  Credit_History     614 non-null    float64\n",
            " 11  Property_Area      614 non-null    object \n",
            " 12  Loan_Status        614 non-null    object \n",
            " 13  Total_Income       614 non-null    float64\n",
            "dtypes: float64(6), int64(1), object(7)\n",
            "memory usage: 67.3+ KB\n"
          ]
        }
      ]
    },
    {
      "cell_type": "markdown",
      "metadata": {
        "papermill": {
          "duration": 0.046545,
          "end_time": "2021-07-01T11:32:08.253587",
          "exception": false,
          "start_time": "2021-07-01T11:32:08.207042",
          "status": "completed"
        },
        "tags": [],
        "id": "drawn-blair"
      },
      "source": [
        "# Checking for Data Imbalance "
      ],
      "id": "drawn-blair"
    },
    {
      "cell_type": "code",
      "metadata": {
        "execution": {
          "iopub.execute_input": "2021-07-01T11:32:08.363924Z",
          "iopub.status.busy": "2021-07-01T11:32:08.362923Z",
          "iopub.status.idle": "2021-07-01T11:32:08.489589Z",
          "shell.execute_reply": "2021-07-01T11:32:08.490202Z",
          "shell.execute_reply.started": "2021-07-01T11:18:01.293981Z"
        },
        "papermill": {
          "duration": 0.189728,
          "end_time": "2021-07-01T11:32:08.490459",
          "exception": false,
          "start_time": "2021-07-01T11:32:08.300731",
          "status": "completed"
        },
        "tags": [],
        "id": "amino-relevance",
        "outputId": "e7323524-cebf-4984-c277-0b38358ed3f1",
        "colab": {
          "base_uri": "https://localhost:8080/",
          "height": 478
        }
      },
      "source": [
        "plt.figure(figsize=(8,6))\n",
        "sns.countplot(df['Loan_Status']);\n",
        "\n",
        "print('The percentage of Y class : %.2f' % (df['Loan_Status'].value_counts()[0] / len(df)))\n",
        "print('The percentage of N class : %.2f' % (df['Loan_Status'].value_counts()[1] / len(df)))\n"
      ],
      "id": "amino-relevance",
      "execution_count": null,
      "outputs": [
        {
          "output_type": "stream",
          "name": "stdout",
          "text": [
            "The percentage of Y class : 0.69\n",
            "The percentage of N class : 0.31\n"
          ]
        },
        {
          "output_type": "stream",
          "name": "stderr",
          "text": [
            "/usr/local/lib/python3.7/dist-packages/seaborn/_decorators.py:43: FutureWarning: Pass the following variable as a keyword arg: x. From version 0.12, the only valid positional argument will be `data`, and passing other arguments without an explicit keyword will result in an error or misinterpretation.\n",
            "  FutureWarning\n"
          ]
        },
        {
          "output_type": "display_data",
          "data": {
            "image/png": "[encoded data removed]",
            "text/plain": [
              "<Figure size 576x432 with 1 Axes>"
            ]
          },
          "metadata": {
            "needs_background": "light"
          }
        }
      ]
    },
    {
      "cell_type": "markdown",
      "metadata": {
        "papermill": {
          "duration": 0.04823,
          "end_time": "2021-07-01T11:32:08.588516",
          "exception": false,
          "start_time": "2021-07-01T11:32:08.540286",
          "status": "completed"
        },
        "tags": [],
        "id": "stock-thinking"
      },
      "source": [
        "# Exploring the individual features"
      ],
      "id": "stock-thinking"
    },
    {
      "cell_type": "code",
      "metadata": {
        "execution": {
          "iopub.execute_input": "2021-07-01T11:32:08.692255Z",
          "iopub.status.busy": "2021-07-01T11:32:08.691572Z",
          "iopub.status.idle": "2021-07-01T11:32:08.693887Z",
          "shell.execute_reply": "2021-07-01T11:32:08.694359Z",
          "shell.execute_reply.started": "2021-07-01T11:18:01.445817Z"
        },
        "papermill": {
          "duration": 0.056668,
          "end_time": "2021-07-01T11:32:08.694541",
          "exception": false,
          "start_time": "2021-07-01T11:32:08.637873",
          "status": "completed"
        },
        "tags": [],
        "id": "yellow-entrance"
      },
      "source": [
        "df['Loan_Status'].replace('N',0,inplace=True)\n",
        "df['Loan_Status'].replace('Y',1,inplace=True)"
      ],
      "id": "yellow-entrance",
      "execution_count": null,
      "outputs": []
    },
    {
      "cell_type": "code",
      "metadata": {
        "execution": {
          "iopub.execute_input": "2021-07-01T11:32:08.792453Z",
          "iopub.status.busy": "2021-07-01T11:32:08.791435Z",
          "iopub.status.idle": "2021-07-01T11:32:09.153287Z",
          "shell.execute_reply": "2021-07-01T11:32:09.152626Z",
          "shell.execute_reply.started": "2021-07-01T11:18:01.459172Z"
        },
        "papermill": {
          "duration": 0.412439,
          "end_time": "2021-07-01T11:32:09.153456",
          "exception": false,
          "start_time": "2021-07-01T11:32:08.741017",
          "status": "completed"
        },
        "tags": [],
        "id": "educated-intervention",
        "outputId": "bcb7aaa8-88bd-4134-a7c6-0f545521eb07",
        "colab": {
          "base_uri": "https://localhost:8080/"
        }
      },
      "source": [
        "grid = sns.FacetGrid(df,col='Loan_Status', size=3.2, aspect=1.6)\n",
        "grid.map(sns.countplot, 'Credit_History');\n",
        "# Those applicants wo have credit history are more likely to get loan."
      ],
      "id": "educated-intervention",
      "execution_count": null,
      "outputs": [
        {
          "output_type": "stream",
          "name": "stderr",
          "text": [
            "/usr/local/lib/python3.7/dist-packages/seaborn/axisgrid.py:337: UserWarning: The `size` parameter has been renamed to `height`; please update your code.\n",
            "  warnings.warn(msg, UserWarning)\n",
            "/usr/local/lib/python3.7/dist-packages/seaborn/axisgrid.py:670: UserWarning: Using the countplot function without specifying `order` is likely to produce an incorrect plot.\n",
            "  warnings.warn(warning)\n"
          ]
        },
        {
          "output_type": "display_data",
          "data": {
            "image/png": "[encoded data removed]",
            "text/plain": [
              "<Figure size 737.28x230.4 with 2 Axes>"
            ]
          },
          "metadata": {
            "needs_background": "light"
          }
        }
      ]
    },
    {
      "cell_type": "code",
      "metadata": {
        "execution": {
          "iopub.execute_input": "2021-07-01T11:32:09.293771Z",
          "iopub.status.busy": "2021-07-01T11:32:09.277615Z",
          "iopub.status.idle": "2021-07-01T11:32:09.615611Z",
          "shell.execute_reply": "2021-07-01T11:32:09.616071Z",
          "shell.execute_reply.started": "2021-07-01T11:18:01.837987Z"
        },
        "papermill": {
          "duration": 0.413627,
          "end_time": "2021-07-01T11:32:09.616252",
          "exception": false,
          "start_time": "2021-07-01T11:32:09.202625",
          "status": "completed"
        },
        "tags": [],
        "id": "manual-arrest",
        "outputId": "046f2d53-63b8-43a5-c086-498d391ba7c0",
        "colab": {
          "base_uri": "https://localhost:8080/"
        }
      },
      "source": [
        "grid = sns.FacetGrid(df,col='Gender', size=3.2, aspect=1.6)\n",
        "grid.map(sns.countplot, 'Loan_Status');\n",
        "\n",
        "# Chances of getting loan to female applicant is higher."
      ],
      "id": "manual-arrest",
      "execution_count": null,
      "outputs": [
        {
          "output_type": "stream",
          "name": "stderr",
          "text": [
            "/usr/local/lib/python3.7/dist-packages/seaborn/axisgrid.py:337: UserWarning: The `size` parameter has been renamed to `height`; please update your code.\n",
            "  warnings.warn(msg, UserWarning)\n",
            "/usr/local/lib/python3.7/dist-packages/seaborn/axisgrid.py:670: UserWarning: Using the countplot function without specifying `order` is likely to produce an incorrect plot.\n",
            "  warnings.warn(warning)\n"
          ]
        },
        {
          "output_type": "display_data",
          "data": {
            "image/png": "[encoded data removed]",
            "text/plain": [
              "<Figure size 737.28x230.4 with 2 Axes>"
            ]
          },
          "metadata": {
            "needs_background": "light"
          }
        }
      ]
    },
    {
      "cell_type": "code",
      "metadata": {
        "execution": {
          "iopub.execute_input": "2021-07-01T11:32:09.751206Z",
          "iopub.status.busy": "2021-07-01T11:32:09.727887Z",
          "iopub.status.idle": "2021-07-01T11:32:09.876503Z",
          "shell.execute_reply": "2021-07-01T11:32:09.875930Z"
        },
        "papermill": {
          "duration": 0.211633,
          "end_time": "2021-07-01T11:32:09.876657",
          "exception": false,
          "start_time": "2021-07-01T11:32:09.665024",
          "status": "completed"
        },
        "scrolled": true,
        "tags": [],
        "id": "rotary-benjamin",
        "outputId": "52e84005-2b8e-4777-c6e1-3d34b74b8a4a",
        "colab": {
          "base_uri": "https://localhost:8080/"
        }
      },
      "source": [
        "sns.countplot(x='Married', hue='Loan_Status', data=df);\n",
        "# Married applicants have higher chances getting loan"
      ],
      "id": "rotary-benjamin",
      "execution_count": null,
      "outputs": [
        {
          "output_type": "display_data",
          "data": {
            "image/png": "[encoded data removed]",
            "text/plain": [
              "<Figure size 432x288 with 1 Axes>"
            ]
          },
          "metadata": {
            "needs_background": "light"
          }
        }
      ]
    },
    {
      "cell_type": "code",
      "metadata": {
        "execution": {
          "iopub.execute_input": "2021-07-01T11:32:10.044248Z",
          "iopub.status.busy": "2021-07-01T11:32:10.039439Z",
          "iopub.status.idle": "2021-07-01T11:32:10.711986Z",
          "shell.execute_reply": "2021-07-01T11:32:10.712744Z",
          "shell.execute_reply.started": "2021-07-01T11:18:02.403034Z"
        },
        "papermill": {
          "duration": 0.786154,
          "end_time": "2021-07-01T11:32:10.713020",
          "exception": false,
          "start_time": "2021-07-01T11:32:09.926866",
          "status": "completed"
        },
        "tags": [],
        "id": "organic-bidder",
        "outputId": "e9d8b077-93c8-4df3-c2cd-5481d5dd1ff4",
        "colab": {
          "base_uri": "https://localhost:8080/"
        }
      },
      "source": [
        "grid = sns.FacetGrid(df,col='Dependents', size=3.2, aspect=1.6)\n",
        "grid.map(sns.countplot, 'Loan_Status');"
      ],
      "id": "organic-bidder",
      "execution_count": null,
      "outputs": [
        {
          "output_type": "stream",
          "name": "stderr",
          "text": [
            "/usr/local/lib/python3.7/dist-packages/seaborn/axisgrid.py:337: UserWarning: The `size` parameter has been renamed to `height`; please update your code.\n",
            "  warnings.warn(msg, UserWarning)\n",
            "/usr/local/lib/python3.7/dist-packages/seaborn/axisgrid.py:670: UserWarning: Using the countplot function without specifying `order` is likely to produce an incorrect plot.\n",
            "  warnings.warn(warning)\n"
          ]
        },
        {
          "output_type": "display_data",
          "data": {
            "image/png": "[encoded data removed]",
            "text/plain": [
              "<Figure size 1474.56x230.4 with 4 Axes>"
            ]
          },
          "metadata": {
            "needs_background": "light"
          }
        }
      ]
    },
    {
      "cell_type": "code",
      "metadata": {
        "execution": {
          "iopub.execute_input": "2021-07-01T11:32:10.831531Z",
          "iopub.status.busy": "2021-07-01T11:32:10.830512Z",
          "iopub.status.idle": "2021-07-01T11:32:11.256066Z",
          "shell.execute_reply": "2021-07-01T11:32:11.256639Z",
          "shell.execute_reply.started": "2021-07-01T11:18:03.005617Z"
        },
        "papermill": {
          "duration": 0.486192,
          "end_time": "2021-07-01T11:32:11.256854",
          "exception": false,
          "start_time": "2021-07-01T11:32:10.770662",
          "status": "completed"
        },
        "tags": [],
        "id": "million-parent",
        "outputId": "d6a51aea-c353-4abc-95bf-4fbe1e396332",
        "colab": {
          "base_uri": "https://localhost:8080/"
        }
      },
      "source": [
        "grid = sns.FacetGrid(df,col='Loan_Status', size=3.2, aspect=1.6)\n",
        "grid.map(sns.countplot, 'Dependents');"
      ],
      "id": "million-parent",
      "execution_count": null,
      "outputs": [
        {
          "output_type": "stream",
          "name": "stderr",
          "text": [
            "/usr/local/lib/python3.7/dist-packages/seaborn/axisgrid.py:337: UserWarning: The `size` parameter has been renamed to `height`; please update your code.\n",
            "  warnings.warn(msg, UserWarning)\n",
            "/usr/local/lib/python3.7/dist-packages/seaborn/axisgrid.py:670: UserWarning: Using the countplot function without specifying `order` is likely to produce an incorrect plot.\n",
            "  warnings.warn(warning)\n"
          ]
        },
        {
          "output_type": "display_data",
          "data": {
            "image/png": "[encoded data removed]",
            "text/plain": [
              "<Figure size 737.28x230.4 with 2 Axes>"
            ]
          },
          "metadata": {
            "needs_background": "light"
          }
        }
      ]
    },
    {
      "cell_type": "code",
      "metadata": {
        "execution": {
          "iopub.execute_input": "2021-07-01T11:32:11.366145Z",
          "iopub.status.busy": "2021-07-01T11:32:11.365155Z",
          "iopub.status.idle": "2021-07-01T11:32:11.720365Z",
          "shell.execute_reply": "2021-07-01T11:32:11.721160Z",
          "shell.execute_reply.started": "2021-07-01T11:18:03.380923Z"
        },
        "papermill": {
          "duration": 0.411456,
          "end_time": "2021-07-01T11:32:11.721483",
          "exception": false,
          "start_time": "2021-07-01T11:32:11.310027",
          "status": "completed"
        },
        "tags": [],
        "id": "neural-magazine",
        "outputId": "ae764b6c-89c7-4a4d-fab4-3338415e3de3",
        "colab": {
          "base_uri": "https://localhost:8080/"
        }
      },
      "source": [
        "grid = sns.FacetGrid(df,col='Self_Employed', size=3.2, aspect=1.6)\n",
        "grid.map(sns.countplot, 'Loan_Status');\n",
        "# If the applicant is having a job he or she has the higher chances of getting loan."
      ],
      "id": "neural-magazine",
      "execution_count": null,
      "outputs": [
        {
          "output_type": "stream",
          "name": "stderr",
          "text": [
            "/usr/local/lib/python3.7/dist-packages/seaborn/axisgrid.py:337: UserWarning: The `size` parameter has been renamed to `height`; please update your code.\n",
            "  warnings.warn(msg, UserWarning)\n",
            "/usr/local/lib/python3.7/dist-packages/seaborn/axisgrid.py:670: UserWarning: Using the countplot function without specifying `order` is likely to produce an incorrect plot.\n",
            "  warnings.warn(warning)\n"
          ]
        },
        {
          "output_type": "display_data",
          "data": {
            "image/png": "[encoded data removed]",
            "text/plain": [
              "<Figure size 737.28x230.4 with 2 Axes>"
            ]
          },
          "metadata": {
            "needs_background": "light"
          }
        }
      ]
    },
    {
      "cell_type": "code",
      "metadata": {
        "execution": {
          "iopub.execute_input": "2021-07-01T11:32:11.866071Z",
          "iopub.status.busy": "2021-07-01T11:32:11.864662Z",
          "iopub.status.idle": "2021-07-01T11:32:12.384389Z",
          "shell.execute_reply": "2021-07-01T11:32:12.383663Z",
          "shell.execute_reply.started": "2021-07-01T11:18:03.752556Z"
        },
        "papermill": {
          "duration": 0.605196,
          "end_time": "2021-07-01T11:32:12.384701",
          "exception": false,
          "start_time": "2021-07-01T11:32:11.779505",
          "status": "completed"
        },
        "tags": [],
        "id": "diagnostic-saturn",
        "outputId": "3dafcfd9-a287-4074-ce67-6de5e0c29ba3",
        "colab": {
          "base_uri": "https://localhost:8080/"
        }
      },
      "source": [
        "grid = sns.FacetGrid(df,col='Property_Area', size=3.2, aspect=1.6)\n",
        "grid.map(sns.countplot, 'Loan_Status');\n",
        "#Semiurban applicants have higher chances."
      ],
      "id": "diagnostic-saturn",
      "execution_count": null,
      "outputs": [
        {
          "output_type": "stream",
          "name": "stderr",
          "text": [
            "/usr/local/lib/python3.7/dist-packages/seaborn/axisgrid.py:337: UserWarning: The `size` parameter has been renamed to `height`; please update your code.\n",
            "  warnings.warn(msg, UserWarning)\n",
            "/usr/local/lib/python3.7/dist-packages/seaborn/axisgrid.py:670: UserWarning: Using the countplot function without specifying `order` is likely to produce an incorrect plot.\n",
            "  warnings.warn(warning)\n"
          ]
        },
        {
          "output_type": "display_data",
          "data": {
            "image/png": "[encoded data removed]",
            "text/plain": [
              "<Figure size 1105.92x230.4 with 3 Axes>"
            ]
          },
          "metadata": {
            "needs_background": "light"
          }
        }
      ]
    },
    {
      "cell_type": "code",
      "metadata": {
        "execution": {
          "iopub.execute_input": "2021-07-01T11:32:12.501733Z",
          "iopub.status.busy": "2021-07-01T11:32:12.500657Z",
          "iopub.status.idle": "2021-07-01T11:32:12.668586Z",
          "shell.execute_reply": "2021-07-01T11:32:12.668046Z",
          "shell.execute_reply.started": "2021-07-01T11:18:04.284093Z"
        },
        "papermill": {
          "duration": 0.229035,
          "end_time": "2021-07-01T11:32:12.668736",
          "exception": false,
          "start_time": "2021-07-01T11:32:12.439701",
          "status": "completed"
        },
        "tags": [],
        "id": "negative-namibia",
        "outputId": "21cbd952-a282-49ed-e5c7-5a187267357f",
        "colab": {
          "base_uri": "https://localhost:8080/"
        }
      },
      "source": [
        "sns.countplot(x='Education', hue='Loan_Status', data=df);\n",
        "# Graduate applicants have higher chances of getting loan."
      ],
      "id": "negative-namibia",
      "execution_count": null,
      "outputs": [
        {
          "output_type": "display_data",
          "data": {
            "image/png": "[encoded data removed]",
            "text/plain": [
              "<Figure size 432x288 with 1 Axes>"
            ]
          },
          "metadata": {
            "needs_background": "light"
          }
        }
      ]
    },
    {
      "cell_type": "code",
      "metadata": {
        "execution": {
          "iopub.execute_input": "2021-07-01T11:32:12.818004Z",
          "iopub.status.busy": "2021-07-01T11:32:12.798141Z",
          "iopub.status.idle": "2021-07-01T11:32:12.970749Z",
          "shell.execute_reply": "2021-07-01T11:32:12.970040Z",
          "shell.execute_reply.started": "2021-07-01T11:18:04.462637Z"
        },
        "papermill": {
          "duration": 0.243799,
          "end_time": "2021-07-01T11:32:12.970913",
          "exception": false,
          "start_time": "2021-07-01T11:32:12.727114",
          "status": "completed"
        },
        "tags": [],
        "id": "existing-target",
        "outputId": "7a6a02c3-2e7a-443a-f87a-958650c62736",
        "colab": {
          "base_uri": "https://localhost:8080/"
        }
      },
      "source": [
        "plt.figure(figsize=(8,6))\n",
        "sns.boxplot(df['Loan_Status'], df['Total_Income']);\n",
        "# Total income does not effect the loan status.\n"
      ],
      "id": "existing-target",
      "execution_count": null,
      "outputs": [
        {
          "output_type": "stream",
          "name": "stderr",
          "text": [
            "/usr/local/lib/python3.7/dist-packages/seaborn/_decorators.py:43: FutureWarning: Pass the following variables as keyword args: x, y. From version 0.12, the only valid positional argument will be `data`, and passing other arguments without an explicit keyword will result in an error or misinterpretation.\n",
            "  FutureWarning\n"
          ]
        },
        {
          "output_type": "display_data",
          "data": {
            "image/png": "[encoded data removed]",
            "text/plain": [
              "<Figure size 576x432 with 1 Axes>"
            ]
          },
          "metadata": {
            "needs_background": "light"
          }
        }
      ]
    },
    {
      "cell_type": "code",
      "metadata": {
        "execution": {
          "iopub.execute_input": "2021-07-01T11:32:13.102583Z",
          "iopub.status.busy": "2021-07-01T11:32:13.100392Z",
          "iopub.status.idle": "2021-07-01T11:32:13.479303Z",
          "shell.execute_reply": "2021-07-01T11:32:13.478755Z",
          "shell.execute_reply.started": "2021-07-01T11:18:04.627361Z"
        },
        "papermill": {
          "duration": 0.448301,
          "end_time": "2021-07-01T11:32:13.479494",
          "exception": false,
          "start_time": "2021-07-01T11:32:13.031193",
          "status": "completed"
        },
        "tags": [],
        "id": "modular-adapter",
        "outputId": "5258db80-cf85-4b53-c9c7-cd02aaf0bb33",
        "colab": {
          "base_uri": "https://localhost:8080/"
        }
      },
      "source": [
        "plt.figure(figsize=(15,15))\n",
        "sns.countplot(x=\"Loan_Amount_Term\", hue=\"Loan_Status\", data=df)\n",
        "#no correlation"
      ],
      "id": "modular-adapter",
      "execution_count": null,
      "outputs": [
        {
          "output_type": "execute_result",
          "data": {
            "text/plain": [
              "<matplotlib.axes._subplots.AxesSubplot at 0x7f45edf8ed90>"
            ]
          },
          "metadata": {},
          "execution_count": 39
        },
        {
          "output_type": "display_data",
          "data": {
            "image/png": "[encoded data removed]",
            "text/plain": [
              "<Figure size 1080x1080 with 1 Axes>"
            ]
          },
          "metadata": {
            "needs_background": "light"
          }
        }
      ]
    },
    {
      "cell_type": "code",
      "metadata": {
        "execution": {
          "iopub.execute_input": "2021-07-01T11:32:13.607096Z",
          "iopub.status.busy": "2021-07-01T11:32:13.606119Z",
          "iopub.status.idle": "2021-07-01T11:32:13.946484Z",
          "shell.execute_reply": "2021-07-01T11:32:13.945927Z",
          "shell.execute_reply.started": "2021-07-01T11:18:05.146788Z"
        },
        "papermill": {
          "duration": 0.406414,
          "end_time": "2021-07-01T11:32:13.946644",
          "exception": false,
          "start_time": "2021-07-01T11:32:13.540230",
          "status": "completed"
        },
        "tags": [],
        "id": "authentic-cholesterol",
        "outputId": "516d05e1-b10f-4c56-d791-0ca1b6980611",
        "colab": {
          "base_uri": "https://localhost:8080/"
        }
      },
      "source": [
        "plt.figure(figsize=(8,10))\n",
        "sns.boxplot(x=\"Loan_Status\",y=\"LoanAmount\", data=df)"
      ],
      "id": "authentic-cholesterol",
      "execution_count": null,
      "outputs": [
        {
          "output_type": "execute_result",
          "data": {
            "text/plain": [
              "<matplotlib.axes._subplots.AxesSubplot at 0x7f45ee076d10>"
            ]
          },
          "metadata": {},
          "execution_count": 40
        },
        {
          "output_type": "display_data",
          "data": {
            "image/png": "[encoded data removed]",
            "text/plain": [
              "<Figure size 576x720 with 1 Axes>"
            ]
          },
          "metadata": {
            "needs_background": "light"
          }
        }
      ]
    },
    {
      "cell_type": "markdown",
      "metadata": {
        "papermill": {
          "duration": 0.064204,
          "end_time": "2021-07-01T11:32:14.232870",
          "exception": false,
          "start_time": "2021-07-01T11:32:14.168666",
          "status": "completed"
        },
        "tags": [],
        "id": "interstate-maryland"
      },
      "source": [
        "# Label Encoding to categorical data"
      ],
      "id": "interstate-maryland"
    },
    {
      "cell_type": "code",
      "metadata": {
        "execution": {
          "iopub.execute_input": "2021-07-01T11:32:14.361786Z",
          "iopub.status.busy": "2021-07-01T11:32:14.360913Z",
          "iopub.status.idle": "2021-07-01T11:32:14.588000Z",
          "shell.execute_reply": "2021-07-01T11:32:14.587380Z",
          "shell.execute_reply.started": "2021-07-01T11:18:05.340919Z"
        },
        "papermill": {
          "duration": 0.293079,
          "end_time": "2021-07-01T11:32:14.588151",
          "exception": false,
          "start_time": "2021-07-01T11:32:14.295072",
          "status": "completed"
        },
        "tags": [],
        "id": "virgin-madness"
      },
      "source": [
        "from sklearn.preprocessing import LabelEncoder\n",
        "cols = ['Gender',\"Married\",\"Education\",'Self_Employed',\"Property_Area\"]\n",
        "le = LabelEncoder()\n",
        "for col in cols:\n",
        "    df[col] = le.fit_transform(df[col])"
      ],
      "id": "virgin-madness",
      "execution_count": null,
      "outputs": []
    },
    {
      "cell_type": "code",
      "metadata": {
        "execution": {
          "iopub.execute_input": "2021-07-01T11:32:14.729984Z",
          "iopub.status.busy": "2021-07-01T11:32:14.728978Z",
          "iopub.status.idle": "2021-07-01T11:32:14.734625Z",
          "shell.execute_reply": "2021-07-01T11:32:14.733910Z",
          "shell.execute_reply.started": "2021-07-01T11:18:05.535493Z"
        },
        "papermill": {
          "duration": 0.083598,
          "end_time": "2021-07-01T11:32:14.734777",
          "exception": false,
          "start_time": "2021-07-01T11:32:14.651179",
          "status": "completed"
        },
        "tags": [],
        "id": "nonprofit-cancellation",
        "colab": {
          "base_uri": "https://localhost:8080/",
          "height": 270
        },
        "outputId": "2a128776-491f-4ac7-d125-ede52af6f2d0"
      },
      "source": [
        "df.head()"
      ],
      "id": "nonprofit-cancellation",
      "execution_count": null,
      "outputs": [
        {
          "output_type": "execute_result",
          "data": {
            "text/html": [
              "\n",
              "  <div id=\"df-073bd176-8651-4037-8d89-747bb2d9a6ef\">\n",
              "    <div class=\"colab-df-container\">\n",
              "      <div>\n",
              "<style scoped>\n",
              "    .dataframe tbody tr th:only-of-type {\n",
              "        vertical-align: middle;\n",
              "    }\n",
              "\n",
              "    .dataframe tbody tr th {\n",
              "        vertical-align: top;\n",
              "    }\n",
              "\n",
              "    .dataframe thead th {\n",
              "        text-align: right;\n",
              "    }\n",
              "</style>\n",
              "<table border=\"1\" class=\"dataframe\">\n",
              "  <thead>\n",
              "    <tr style=\"text-align: right;\">\n",
              "      <th></th>\n",
              "      <th>Loan_ID</th>\n",
              "      <th>Gender</th>\n",
              "      <th>Married</th>\n",
              "      <th>Dependents</th>\n",
              "      <th>Education</th>\n",
              "      <th>Self_Employed</th>\n",
              "      <th>ApplicantIncome</th>\n",
              "      <th>CoapplicantIncome</th>\n",
              "      <th>LoanAmount</th>\n",
              "      <th>Loan_Amount_Term</th>\n",
              "      <th>Credit_History</th>\n",
              "      <th>Property_Area</th>\n",
              "      <th>Loan_Status</th>\n",
              "      <th>Total_Income</th>\n",
              "    </tr>\n",
              "  </thead>\n",
              "  <tbody>\n",
              "    <tr>\n",
              "      <th>0</th>\n",
              "      <td>LP001002</td>\n",
              "      <td>1</td>\n",
              "      <td>0</td>\n",
              "      <td>0.0</td>\n",
              "      <td>0</td>\n",
              "      <td>0</td>\n",
              "      <td>5849</td>\n",
              "      <td>0.0</td>\n",
              "      <td>128.0</td>\n",
              "      <td>360.0</td>\n",
              "      <td>1.0</td>\n",
              "      <td>2</td>\n",
              "      <td>1</td>\n",
              "      <td>5849.0</td>\n",
              "    </tr>\n",
              "    <tr>\n",
              "      <th>1</th>\n",
              "      <td>LP001003</td>\n",
              "      <td>1</td>\n",
              "      <td>1</td>\n",
              "      <td>1.0</td>\n",
              "      <td>0</td>\n",
              "      <td>0</td>\n",
              "      <td>4583</td>\n",
              "      <td>1508.0</td>\n",
              "      <td>128.0</td>\n",
              "      <td>360.0</td>\n",
              "      <td>1.0</td>\n",
              "      <td>0</td>\n",
              "      <td>0</td>\n",
              "      <td>6091.0</td>\n",
              "    </tr>\n",
              "    <tr>\n",
              "      <th>2</th>\n",
              "      <td>LP001005</td>\n",
              "      <td>1</td>\n",
              "      <td>1</td>\n",
              "      <td>0.0</td>\n",
              "      <td>0</td>\n",
              "      <td>1</td>\n",
              "      <td>3000</td>\n",
              "      <td>0.0</td>\n",
              "      <td>66.0</td>\n",
              "      <td>360.0</td>\n",
              "      <td>1.0</td>\n",
              "      <td>2</td>\n",
              "      <td>1</td>\n",
              "      <td>3000.0</td>\n",
              "    </tr>\n",
              "    <tr>\n",
              "      <th>3</th>\n",
              "      <td>LP001006</td>\n",
              "      <td>1</td>\n",
              "      <td>1</td>\n",
              "      <td>0.0</td>\n",
              "      <td>1</td>\n",
              "      <td>0</td>\n",
              "      <td>2583</td>\n",
              "      <td>2358.0</td>\n",
              "      <td>120.0</td>\n",
              "      <td>360.0</td>\n",
              "      <td>1.0</td>\n",
              "      <td>2</td>\n",
              "      <td>1</td>\n",
              "      <td>4941.0</td>\n",
              "    </tr>\n",
              "    <tr>\n",
              "      <th>4</th>\n",
              "      <td>LP001008</td>\n",
              "      <td>1</td>\n",
              "      <td>0</td>\n",
              "      <td>0.0</td>\n",
              "      <td>0</td>\n",
              "      <td>0</td>\n",
              "      <td>6000</td>\n",
              "      <td>0.0</td>\n",
              "      <td>141.0</td>\n",
              "      <td>360.0</td>\n",
              "      <td>1.0</td>\n",
              "      <td>2</td>\n",
              "      <td>1</td>\n",
              "      <td>6000.0</td>\n",
              "    </tr>\n",
              "  </tbody>\n",
              "</table>\n",
              "</div>\n",
              "      <button class=\"colab-df-convert\" onclick=\"convertToInteractive('df-073bd176-8651-4037-8d89-747bb2d9a6ef')\"\n",
              "              title=\"Convert this dataframe to an interactive table.\"\n",
              "              style=\"display:none;\">\n",
              "        \n",
              "  <svg xmlns=\"http://www.w3.org/2000/svg\" height=\"24px\"viewBox=\"0 0 24 24\"\n",
              "       width=\"24px\">\n",
              "    <path d=\"M0 0h24v24H0V0z\" fill=\"none\"/>\n",
              "    <path d=\"M18.56 5.44l.94 2.06.94-2.06 2.06-.94-2.06-.94-.94-2.06-.94 2.06-2.06.94zm-11 1L8.5 8.5l.94-2.06 2.06-.94-2.06-.94L8.5 2.5l-.94 2.06-2.06.94zm10 10l.94 2.06.94-2.06 2.06-.94-2.06-.94-.94-2.06-.94 2.06-2.06.94z\"/><path d=\"M17.41 7.96l-1.37-1.37c-.4-.4-.92-.59-1.43-.59-.52 0-1.04.2-1.43.59L10.3 9.45l-7.72 7.72c-.78.78-.78 2.05 0 2.83L4 21.41c.39.39.9.59 1.41.59.51 0 1.02-.2 1.41-.59l7.78-7.78 2.81-2.81c.8-.78.8-2.07 0-2.86zM5.41 20L4 18.59l7.72-7.72 1.47 1.35L5.41 20z\"/>\n",
              "  </svg>\n",
              "      </button>\n",
              "      \n",
              "  <style>\n",
              "    .colab-df-container {\n",
              "      display:flex;\n",
              "      flex-wrap:wrap;\n",
              "      gap: 12px;\n",
              "    }\n",
              "\n",
              "    .colab-df-convert {\n",
              "      background-color: #E8F0FE;\n",
              "      border: none;\n",
              "      border-radius: 50%;\n",
              "      cursor: pointer;\n",
              "      display: none;\n",
              "      fill: #1967D2;\n",
              "      height: 32px;\n",
              "      padding: 0 0 0 0;\n",
              "      width: 32px;\n",
              "    }\n",
              "\n",
              "    .colab-df-convert:hover {\n",
              "      background-color: #E2EBFA;\n",
              "      box-shadow: 0px 1px 2px rgba(60, 64, 67, 0.3), 0px 1px 3px 1px rgba(60, 64, 67, 0.15);\n",
              "      fill: #174EA6;\n",
              "    }\n",
              "\n",
              "    [theme=dark] .colab-df-convert {\n",
              "      background-color: #3B4455;\n",
              "      fill: #D2E3FC;\n",
              "    }\n",
              "\n",
              "    [theme=dark] .colab-df-convert:hover {\n",
              "      background-color: #434B5C;\n",
              "      box-shadow: 0px 1px 3px 1px rgba(0, 0, 0, 0.15);\n",
              "      filter: drop-shadow(0px 1px 2px rgba(0, 0, 0, 0.3));\n",
              "      fill: #FFFFFF;\n",
              "    }\n",
              "  </style>\n",
              "\n",
              "      <script>\n",
              "        const buttonEl =\n",
              "          document.querySelector('#df-073bd176-8651-4037-8d89-747bb2d9a6ef button.colab-df-convert');\n",
              "        buttonEl.style.display =\n",
              "          google.colab.kernel.accessAllowed ? 'block' : 'none';\n",
              "\n",
              "        async function convertToInteractive(key) {\n",
              "          const element = document.querySelector('#df-073bd176-8651-4037-8d89-747bb2d9a6ef');\n",
              "          const dataTable =\n",
              "            await google.colab.kernel.invokeFunction('convertToInteractive',\n",
              "                                                     [key], {});\n",
              "          if (!dataTable) return;\n",
              "\n",
              "          const docLinkHtml = 'Like what you see? Visit the ' +\n",
              "            '<a target=\"_blank\" href=https://colab.research.google.com/notebooks/data_table.ipynb>data table notebook</a>'\n",
              "            + ' to learn more about interactive tables.';\n",
              "          element.innerHTML = '';\n",
              "          dataTable['output_type'] = 'display_data';\n",
              "          await google.colab.output.renderOutput(dataTable, element);\n",
              "          const docLink = document.createElement('div');\n",
              "          docLink.innerHTML = docLinkHtml;\n",
              "          element.appendChild(docLink);\n",
              "        }\n",
              "      </script>\n",
              "    </div>\n",
              "  </div>\n",
              "  "
            ],
            "text/plain": [
              "    Loan_ID  Gender  Married  ...  Property_Area  Loan_Status  Total_Income\n",
              "0  LP001002       1        0  ...              2            1        5849.0\n",
              "1  LP001003       1        1  ...              0            0        6091.0\n",
              "2  LP001005       1        1  ...              2            1        3000.0\n",
              "3  LP001006       1        1  ...              2            1        4941.0\n",
              "4  LP001008       1        0  ...              2            1        6000.0\n",
              "\n",
              "[5 rows x 14 columns]"
            ]
          },
          "metadata": {},
          "execution_count": 42
        }
      ]
    },
    {
      "cell_type": "code",
      "metadata": {
        "execution": {
          "iopub.execute_input": "2021-07-01T11:32:14.868124Z",
          "iopub.status.busy": "2021-07-01T11:32:14.867135Z",
          "iopub.status.idle": "2021-07-01T11:32:14.871701Z",
          "shell.execute_reply": "2021-07-01T11:32:14.870928Z",
          "shell.execute_reply.started": "2021-07-01T11:18:05.552103Z"
        },
        "papermill": {
          "duration": 0.073297,
          "end_time": "2021-07-01T11:32:14.871862",
          "exception": false,
          "start_time": "2021-07-01T11:32:14.798565",
          "status": "completed"
        },
        "tags": [],
        "id": "changing-vacation"
      },
      "source": [
        "# specify input and output attributes\n",
        "X = df.drop(columns=['Loan_Status','Loan_ID'], axis=1)\n",
        "y = df['Loan_Status']"
      ],
      "id": "changing-vacation",
      "execution_count": null,
      "outputs": []
    },
    {
      "cell_type": "code",
      "metadata": {
        "execution": {
          "iopub.execute_input": "2021-07-01T11:32:15.224777Z",
          "iopub.status.busy": "2021-07-01T11:32:15.224032Z",
          "iopub.status.idle": "2021-07-01T11:32:15.228371Z",
          "shell.execute_reply": "2021-07-01T11:32:15.227663Z",
          "shell.execute_reply.started": "2021-07-01T11:18:05.645027Z"
        },
        "papermill": {
          "duration": 0.074395,
          "end_time": "2021-07-01T11:32:15.228522",
          "exception": false,
          "start_time": "2021-07-01T11:32:15.154127",
          "status": "completed"
        },
        "tags": [],
        "id": "criminal-exhibit"
      },
      "source": [
        "# classifier function\n",
        "from sklearn.model_selection import cross_val_score\n",
        "x_train, x_test, y_train, y_test = train_test_split(X, y, test_size=0.25, random_state=42)\n",
        "def classify(model, x, y):\n",
        "    x_train, x_test, y_train, y_test = train_test_split(X, y, test_size=0.25, random_state=42)\n",
        "    model.fit(x_train, y_train)\n",
        "    print(\"Accuracy is\", model.score(x_test, y_test)*100)\n",
        "    score = cross_val_score(model, x, y, cv=5)\n",
        "    print(\"Cross validation is\",np.mean(score)*100)\n",
        "    from sklearn.metrics import confusion_matrix\n",
        "    y_pred = model.predict(x_test)\n",
        "    cm = confusion_matrix(y_test, y_pred)\n",
        "    sns.heatmap(cm, annot=True)"
      ],
      "id": "criminal-exhibit",
      "execution_count": null,
      "outputs": []
    },
    {
      "cell_type": "code",
      "metadata": {
        "execution": {
          "iopub.execute_input": "2021-07-01T11:32:15.358328Z",
          "iopub.status.busy": "2021-07-01T11:32:15.357355Z",
          "iopub.status.idle": "2021-07-01T11:32:15.558433Z",
          "shell.execute_reply": "2021-07-01T11:32:15.557556Z",
          "shell.execute_reply.started": "2021-07-01T11:18:05.656067Z"
        },
        "papermill": {
          "duration": 0.266829,
          "end_time": "2021-07-01T11:32:15.558593",
          "exception": false,
          "start_time": "2021-07-01T11:32:15.291764",
          "status": "completed"
        },
        "tags": [],
        "id": "grateful-intensity",
        "colab": {
          "base_uri": "https://localhost:8080/",
          "height": 716
        },
        "outputId": "5acd2016-005e-411b-fe41-77a503ee37e1"
      },
      "source": [
        "from sklearn.linear_model import LogisticRegression\n",
        "model = LogisticRegression()\n",
        "classify(model, X, y)"
      ],
      "id": "grateful-intensity",
      "execution_count": null,
      "outputs": [
        {
          "output_type": "stream",
          "name": "stdout",
          "text": [
            "Accuracy is 77.27272727272727\n",
            "Cross validation is 80.13194722111156\n"
          ]
        },
        {
          "output_type": "stream",
          "name": "stderr",
          "text": [
            "/usr/local/lib/python3.7/dist-packages/sklearn/linear_model/_logistic.py:818: ConvergenceWarning: lbfgs failed to converge (status=1):\n",
            "STOP: TOTAL NO. of ITERATIONS REACHED LIMIT.\n",
            "\n",
            "Increase the number of iterations (max_iter) or scale the data as shown in:\n",
            "    https://scikit-learn.org/stable/modules/preprocessing.html\n",
            "Please also refer to the documentation for alternative solver options:\n",
            "    https://scikit-learn.org/stable/modules/linear_model.html#logistic-regression\n",
            "  extra_warning_msg=_LOGISTIC_SOLVER_CONVERGENCE_MSG,\n",
            "/usr/local/lib/python3.7/dist-packages/sklearn/linear_model/_logistic.py:818: ConvergenceWarning: lbfgs failed to converge (status=1):\n",
            "STOP: TOTAL NO. of ITERATIONS REACHED LIMIT.\n",
            "\n",
            "Increase the number of iterations (max_iter) or scale the data as shown in:\n",
            "    https://scikit-learn.org/stable/modules/preprocessing.html\n",
            "Please also refer to the documentation for alternative solver options:\n",
            "    https://scikit-learn.org/stable/modules/linear_model.html#logistic-regression\n",
            "  extra_warning_msg=_LOGISTIC_SOLVER_CONVERGENCE_MSG,\n",
            "/usr/local/lib/python3.7/dist-packages/sklearn/linear_model/_logistic.py:818: ConvergenceWarning: lbfgs failed to converge (status=1):\n",
            "STOP: TOTAL NO. of ITERATIONS REACHED LIMIT.\n",
            "\n",
            "Increase the number of iterations (max_iter) or scale the data as shown in:\n",
            "    https://scikit-learn.org/stable/modules/preprocessing.html\n",
            "Please also refer to the documentation for alternative solver options:\n",
            "    https://scikit-learn.org/stable/modules/linear_model.html#logistic-regression\n",
            "  extra_warning_msg=_LOGISTIC_SOLVER_CONVERGENCE_MSG,\n"
          ]
        },
        {
          "output_type": "display_data",
          "data": {
            "image/png": "[encoded data removed]",
            "text/plain": [
              "<Figure size 432x288 with 2 Axes>"
            ]
          },
          "metadata": {
            "needs_background": "light"
          }
        }
      ]
    },
    {
      "cell_type": "code",
      "source": [
        ""
      ],
      "metadata": {
        "id": "sLz_AbzBueja"
      },
      "id": "sLz_AbzBueja",
      "execution_count": null,
      "outputs": []
    },
    {
      "cell_type": "code",
      "metadata": {
        "execution": {
          "iopub.execute_input": "2021-07-01T11:32:15.685009Z",
          "iopub.status.busy": "2021-07-01T11:32:15.684331Z",
          "iopub.status.idle": "2021-07-01T11:32:17.107996Z",
          "shell.execute_reply": "2021-07-01T11:32:17.108599Z",
          "shell.execute_reply.started": "2021-07-01T11:18:05.843193Z"
        },
        "papermill": {
          "duration": 1.48849,
          "end_time": "2021-07-01T11:32:17.108797",
          "exception": false,
          "start_time": "2021-07-01T11:32:15.620307",
          "status": "completed"
        },
        "tags": [],
        "id": "promising-habitat",
        "outputId": "73804068-9b2d-4702-bf9e-5e1a0797d951",
        "colab": {
          "base_uri": "https://localhost:8080/",
          "height": 300
        }
      },
      "source": [
        "from sklearn.ensemble import RandomForestClassifier\n",
        "model = RandomForestClassifier()\n",
        "classify(model, X, y)"
      ],
      "id": "promising-habitat",
      "execution_count": null,
      "outputs": [
        {
          "output_type": "stream",
          "name": "stdout",
          "text": [
            "Accuracy is 76.62337662337663\n",
            "Cross validation is 78.17672930827668\n"
          ]
        },
        {
          "output_type": "display_data",
          "data": {
            "image/png": "[encoded data removed]",
            "text/plain": [
              "<Figure size 432x288 with 2 Axes>"
            ]
          },
          "metadata": {
            "needs_background": "light"
          }
        }
      ]
    },
    {
      "cell_type": "code",
      "metadata": {
        "execution": {
          "iopub.execute_input": "2021-07-01T11:32:17.240387Z",
          "iopub.status.busy": "2021-07-01T11:32:17.239459Z",
          "iopub.status.idle": "2021-07-01T11:32:17.257749Z",
          "shell.execute_reply": "2021-07-01T11:32:17.257089Z",
          "shell.execute_reply.started": "2021-07-01T11:18:07.210294Z"
        },
        "papermill": {
          "duration": 0.087474,
          "end_time": "2021-07-01T11:32:17.257893",
          "exception": false,
          "start_time": "2021-07-01T11:32:17.170419",
          "status": "completed"
        },
        "tags": [],
        "id": "domestic-surname",
        "outputId": "04fe3758-608a-4ddd-9f2d-cfc38a5b4d61",
        "colab": {
          "base_uri": "https://localhost:8080/"
        }
      },
      "source": [
        "from sklearn.metrics import confusion_matrix\n",
        "y_pred = model.predict(x_test)\n",
        "cm = confusion_matrix(y_test, y_pred)\n",
        "cm"
      ],
      "id": "domestic-surname",
      "execution_count": null,
      "outputs": [
        {
          "output_type": "execute_result",
          "data": {
            "text/plain": [
              "array([[24, 30],\n",
              "       [ 6, 94]])"
            ]
          },
          "metadata": {},
          "execution_count": 47
        }
      ]
    },
    {
      "cell_type": "code",
      "metadata": {
        "execution": {
          "iopub.execute_input": "2021-07-01T11:32:17.382715Z",
          "iopub.status.busy": "2021-07-01T11:32:17.382004Z",
          "iopub.status.idle": "2021-07-01T11:32:17.559296Z",
          "shell.execute_reply": "2021-07-01T11:32:17.559846Z",
          "shell.execute_reply.started": "2021-07-01T11:18:07.243101Z"
        },
        "papermill": {
          "duration": 0.243892,
          "end_time": "2021-07-01T11:32:17.560030",
          "exception": false,
          "start_time": "2021-07-01T11:32:17.316138",
          "status": "completed"
        },
        "tags": [],
        "id": "interested-advocacy",
        "outputId": "f348e1f2-1e5a-4800-95e7-5f0415ca2b68",
        "colab": {
          "base_uri": "https://localhost:8080/",
          "height": 282
        }
      },
      "source": [
        "sns.heatmap(cm, annot=True)"
      ],
      "id": "interested-advocacy",
      "execution_count": null,
      "outputs": [
        {
          "output_type": "execute_result",
          "data": {
            "text/plain": [
              "<matplotlib.axes._subplots.AxesSubplot at 0x7f45f7e38890>"
            ]
          },
          "metadata": {},
          "execution_count": 48
        },
        {
          "output_type": "display_data",
          "data": {
            "image/png": "[encoded data removed]",
            "text/plain": [
              "<Figure size 432x288 with 2 Axes>"
            ]
          },
          "metadata": {
            "needs_background": "light"
          }
        }
      ]
    },
    {
      "cell_type": "code",
      "metadata": {
        "colab": {
          "base_uri": "https://localhost:8080/",
          "height": 300
        },
        "id": "-r1YFzgdaGPN",
        "outputId": "a8748d8b-5cd5-4a10-c54f-5d211a1d23cd"
      },
      "source": [
        "from sklearn import tree\n",
        "dt=tree.DecisionTreeClassifier()\n",
        "classify(dt, X,y)"
      ],
      "id": "-r1YFzgdaGPN",
      "execution_count": null,
      "outputs": [
        {
          "output_type": "stream",
          "name": "stdout",
          "text": [
            "Accuracy is 72.07792207792207\n",
            "Cross validation is 73.61455417832866\n"
          ]
        },
        {
          "output_type": "display_data",
          "data": {
            "image/png": "[encoded data removed]",
            "text/plain": [
              "<Figure size 432x288 with 2 Axes>"
            ]
          },
          "metadata": {
            "needs_background": "light"
          }
        }
      ]
    },
    {
      "cell_type": "code",
      "source": [
        "from sklearn.metrics import confusion_matrix\n",
        "y_pred = dt.predict(x_test)\n",
        "cm = confusion_matrix(y_test, y_pred)\n",
        "cm"
      ],
      "metadata": {
        "colab": {
          "base_uri": "https://localhost:8080/"
        },
        "id": "eZ5T6m1xO7yp",
        "outputId": "d4ffbe97-c2dc-4a1f-9656-fc0bb0c507f0"
      },
      "id": "eZ5T6m1xO7yp",
      "execution_count": null,
      "outputs": [
        {
          "output_type": "execute_result",
          "data": {
            "text/plain": [
              "array([[29, 25],\n",
              "       [18, 82]])"
            ]
          },
          "metadata": {},
          "execution_count": 50
        }
      ]
    },
    {
      "cell_type": "code",
      "source": [
        "from xgboost import XGBClassifier\n",
        "xgb=XGBClassifier(n_estimators=50,max_depth=4)\n",
        "classify(xgb,X,y)"
      ],
      "metadata": {
        "colab": {
          "base_uri": "https://localhost:8080/",
          "height": 300
        },
        "id": "bfiH2U0DNC2v",
        "outputId": "a80e687c-1dce-455e-f01e-984bf9003c75"
      },
      "id": "bfiH2U0DNC2v",
      "execution_count": null,
      "outputs": [
        {
          "output_type": "stream",
          "name": "stdout",
          "text": [
            "Accuracy is 74.02597402597402\n",
            "Cross validation is 79.80807676929228\n"
          ]
        },
        {
          "output_type": "display_data",
          "data": {
            "image/png": "[encoded data removed]",
            "text/plain": [
              "<Figure size 432x288 with 2 Axes>"
            ]
          },
          "metadata": {
            "needs_background": "light"
          }
        }
      ]
    },
    {
      "cell_type": "code",
      "source": [
        "from sklearn.metrics import confusion_matrix\n",
        "y_pred = xgb.predict(x_test)\n",
        "cm = confusion_matrix(y_test, y_pred)\n",
        "cm"
      ],
      "metadata": {
        "colab": {
          "base_uri": "https://localhost:8080/"
        },
        "id": "K4Z8tw06PAmA",
        "outputId": "83ea240b-5198-4bbd-b9f5-1b09a062dba4"
      },
      "id": "K4Z8tw06PAmA",
      "execution_count": null,
      "outputs": [
        {
          "output_type": "execute_result",
          "data": {
            "text/plain": [
              "array([[21, 33],\n",
              "       [ 7, 93]])"
            ]
          },
          "metadata": {},
          "execution_count": 52
        }
      ]
    },
    {
      "cell_type": "code",
      "source": [
        "from sklearn.ensemble import AdaBoostClassifier\n",
        "adb = AdaBoostClassifier()\n",
        "classify(adb,X,y)"
      ],
      "metadata": {
        "colab": {
          "base_uri": "https://localhost:8080/",
          "height": 300
        },
        "id": "GjCqEXhHN1EY",
        "outputId": "b82879b3-a164-44ca-c81f-c36ff8753e49"
      },
      "id": "GjCqEXhHN1EY",
      "execution_count": null,
      "outputs": [
        {
          "output_type": "stream",
          "name": "stdout",
          "text": [
            "Accuracy is 76.62337662337663\n",
            "Cross validation is 78.33933093429295\n"
          ]
        },
        {
          "output_type": "display_data",
          "data": {
            "image/png": "[encoded data removed]",
            "text/plain": [
              "<Figure size 432x288 with 2 Axes>"
            ]
          },
          "metadata": {
            "needs_background": "light"
          }
        }
      ]
    },
    {
      "cell_type": "code",
      "source": [
        "from sklearn.metrics import confusion_matrix\n",
        "y_pred = adb.predict(x_test)\n",
        "cm = confusion_matrix(y_test, y_pred)\n",
        "cm"
      ],
      "metadata": {
        "colab": {
          "base_uri": "https://localhost:8080/"
        },
        "id": "tE1TsZjOPDwo",
        "outputId": "908fa565-997b-4d3d-ae03-6fabfacfc64b"
      },
      "id": "tE1TsZjOPDwo",
      "execution_count": null,
      "outputs": [
        {
          "output_type": "execute_result",
          "data": {
            "text/plain": [
              "array([[24, 30],\n",
              "       [ 6, 94]])"
            ]
          },
          "metadata": {},
          "execution_count": 54
        }
      ]
    },
    {
      "cell_type": "code",
      "source": [
        "from sklearn.svm import SVC\n",
        "svc = SVC()\n",
        "classify(svc,X,y)"
      ],
      "metadata": {
        "colab": {
          "base_uri": "https://localhost:8080/",
          "height": 304
        },
        "id": "1AhN7hXdN9UW",
        "outputId": "21927b74-48c2-4d55-961b-455194e3f3d1"
      },
      "id": "1AhN7hXdN9UW",
      "execution_count": null,
      "outputs": [
        {
          "output_type": "stream",
          "name": "stdout",
          "text": [
            "Accuracy is 64.93506493506493\n",
            "Cross validation is 68.56590697054511\n"
          ]
        },
        {
          "output_type": "display_data",
          "data": {
            "image/png": "[encoded data removed]",
            "text/plain": [
              "<Figure size 432x288 with 2 Axes>"
            ]
          },
          "metadata": {
            "needs_background": "light"
          }
        }
      ]
    },
    {
      "cell_type": "code",
      "source": [
        "from sklearn.metrics import confusion_matrix\n",
        "y_pred = svc.predict(x_test)\n",
        "cm = confusion_matrix(y_test, y_pred)\n",
        "cm"
      ],
      "metadata": {
        "colab": {
          "base_uri": "https://localhost:8080/"
        },
        "id": "iWvgggq4PHPV",
        "outputId": "600cc42b-bd76-4f24-b85a-8d472258ec1e"
      },
      "id": "iWvgggq4PHPV",
      "execution_count": null,
      "outputs": [
        {
          "output_type": "execute_result",
          "data": {
            "text/plain": [
              "array([[  0,  54],\n",
              "       [  0, 100]])"
            ]
          },
          "metadata": {},
          "execution_count": 56
        }
      ]
    },
    {
      "cell_type": "code",
      "source": [
        "from sklearn.ensemble import BaggingClassifier\n",
        "clf = BaggingClassifier(base_estimator=SVC(),n_estimators=10, random_state=0)\n",
        "classify(clf,X,y)"
      ],
      "metadata": {
        "colab": {
          "base_uri": "https://localhost:8080/",
          "height": 304
        },
        "id": "lalk-DFDOR_y",
        "outputId": "9dc74503-5044-4d1f-fb56-6f24513d9b0e"
      },
      "id": "lalk-DFDOR_y",
      "execution_count": null,
      "outputs": [
        {
          "output_type": "stream",
          "name": "stdout",
          "text": [
            "Accuracy is 65.5844155844156\n",
            "Cross validation is 68.40197254431561\n"
          ]
        },
        {
          "output_type": "display_data",
          "data": {
            "image/png": "[encoded data removed]",
            "text/plain": [
              "<Figure size 432x288 with 2 Axes>"
            ]
          },
          "metadata": {
            "needs_background": "light"
          }
        }
      ]
    },
    {
      "cell_type": "code",
      "source": [
        "from sklearn.metrics import confusion_matrix\n",
        "y_pred = clf.predict(x_test)\n",
        "cm = confusion_matrix(y_test, y_pred)\n",
        "cm"
      ],
      "metadata": {
        "colab": {
          "base_uri": "https://localhost:8080/"
        },
        "id": "H5t7T9cdPS1C",
        "outputId": "d90c1844-7531-497d-c36e-e148086d517f"
      },
      "id": "H5t7T9cdPS1C",
      "execution_count": null,
      "outputs": [
        {
          "output_type": "execute_result",
          "data": {
            "text/plain": [
              "array([[  1,  53],\n",
              "       [  0, 100]])"
            ]
          },
          "metadata": {},
          "execution_count": 58
        }
      ]
    },
    {
      "cell_type": "code",
      "source": [
        "from sklearn.ensemble import GradientBoostingClassifier\n",
        "clf = GradientBoostingClassifier(n_estimators=100, learning_rate=1.0, max_depth=1, random_state=0)\n",
        "classify(clf,X,y)"
      ],
      "metadata": {
        "colab": {
          "base_uri": "https://localhost:8080/",
          "height": 302
        },
        "id": "GJ4sMp5MOhvf",
        "outputId": "ff3cb05f-c87f-4ae4-bc65-b51511e4c018"
      },
      "id": "GJ4sMp5MOhvf",
      "execution_count": null,
      "outputs": [
        {
          "output_type": "stream",
          "name": "stdout",
          "text": [
            "Accuracy is 75.32467532467533\n",
            "Cross validation is 78.17806210848993\n"
          ]
        },
        {
          "output_type": "display_data",
          "data": {
            "image/png": "[encoded data removed]",
            "text/plain": [
              "<Figure size 432x288 with 2 Axes>"
            ]
          },
          "metadata": {
            "needs_background": "light"
          }
        }
      ]
    },
    {
      "cell_type": "code",
      "source": [
        "from sklearn.metrics import confusion_matrix\n",
        "y_pred = clf.predict(x_test)\n",
        "cm = confusion_matrix(y_test, y_pred)\n",
        "cm"
      ],
      "metadata": {
        "id": "Y0fX2imdPYX3",
        "outputId": "eb8b71e9-ec05-46ed-9cb2-bcfba0f7df12",
        "colab": {
          "base_uri": "https://localhost:8080/"
        }
      },
      "id": "Y0fX2imdPYX3",
      "execution_count": null,
      "outputs": [
        {
          "output_type": "execute_result",
          "data": {
            "text/plain": [
              "array([[25, 29],\n",
              "       [ 9, 91]])"
            ]
          },
          "metadata": {},
          "execution_count": 60
        }
      ]
    },
    {
      "cell_type": "code",
      "source": [
        "models = [('gb', LogisticRegression()),\n",
        "        ('ada', DecisionTreeClassifier()),\n",
        "        ('dt', RandomForestClassifier())]"
      ],
      "metadata": {
        "id": "a_Ax0MROaZNf"
      },
      "id": "a_Ax0MROaZNf",
      "execution_count": null,
      "outputs": []
    },
    {
      "cell_type": "code",
      "source": [
        "def fit_models(models, X_train, X_valid, y_train, y_valid):\n",
        "\n",
        "    #Create variable in which to store predictions for meta-model.\n",
        "    preds_for_meta = []\n",
        "    \n",
        "    #Loop through models in model list.\n",
        "    for name, model in tqdm(models):\n",
        "        \n",
        "        #Fit model and obtain predictions.\n",
        "        model.fit(X_train, y_train)\n",
        "        pred = model.predict_proba(X_valid)[:, 1]\n",
        "        \n",
        "        #Obtain base moedl roc score.\n",
        "        roc_base = roc_auc_score(y_valid, pred)\n",
        "        \n",
        "        print(f'{model} score: {roc_base}')\n",
        "        \n",
        "        #Reshape prediction into single-column matrix.\n",
        "        pred = pred.reshape(len(pred), 1)\n",
        "        \n",
        "        #Append prediction to varible for meta-model.\n",
        "        preds_for_meta.append(pred)\n",
        "\n",
        "        #Create 2D array from predictions.\n",
        "    meta_features = np.hstack(preds_for_meta)\n",
        "    \n",
        "    #Define blender for model.\n",
        "    meta_model = LogisticRegression(\n",
        "                                 #tree_method='gpu_hist', \n",
        "                                 #gpu_id = 0,\n",
        "                                 random_state = 5)\n",
        "    \n",
        "    #Fit meta model on predictions from base models.\n",
        "    meta_model.fit(meta_features, y_valid.values.ravel())\n",
        "    print(f'Meta AUC: {roc_auc_score(y_valid, meta_model.predict_proba(meta_features)[:, 1])}')\n",
        "    \n",
        "    return meta_model"
      ],
      "metadata": {
        "id": "aTugba1anwrF"
      },
      "id": "aTugba1anwrF",
      "execution_count": null,
      "outputs": []
    },
    {
      "cell_type": "code",
      "source": [
        "def meta_predict(models, meta_model, X_test):\n",
        "    \n",
        "    #Variable to store base models' test predictions.\n",
        "    preds_for_meta = []\n",
        "    \n",
        "    #Loop through models to make predictions.\n",
        "    for name, model in tqdm(models):\n",
        "        \n",
        "        #Make predictions with base models.\n",
        "        pred = model.predict(X_test)\n",
        "        \n",
        "        #Reshape prediction.\n",
        "        pred = pred.reshape(len(pred), 1)\n",
        "        \n",
        "        #Append predition to meta-model prediction list.\n",
        "        preds_for_meta.append(pred)\n",
        "\n",
        "            #Reshape all predictions into 2D array.\n",
        "    meta_features = np.hstack(preds_for_meta)\n",
        "    \n",
        "    #Make prediction using meta-model.\n",
        "    meta_preds = meta_model.predict_proba(meta_features)[:, 1]\n",
        "    \n",
        "    return meta_preds"
      ],
      "metadata": {
        "id": "QHgOftlFoBYC"
      },
      "id": "QHgOftlFoBYC",
      "execution_count": null,
      "outputs": []
    },
    {
      "cell_type": "code",
      "source": [
        ""
      ],
      "metadata": {
        "id": "nfbhIpg-okTM"
      },
      "id": "nfbhIpg-okTM",
      "execution_count": null,
      "outputs": []
    },
    {
      "cell_type": "code",
      "source": [
        "\n",
        "meta_model = fit_models(models,x_train, x_test, y_train, y_test)"
      ],
      "metadata": {
        "colab": {
          "base_uri": "https://localhost:8080/"
        },
        "id": "6fxwbUQsoPAG",
        "outputId": "a284a714-e3ca-448f-c1ab-3c3f0519c96b"
      },
      "id": "6fxwbUQsoPAG",
      "execution_count": null,
      "outputs": [
        {
          "output_type": "stream",
          "name": "stderr",
          "text": [
            "\r  0%|          | 0/3 [00:00<?, ?it/s]"
          ]
        },
        {
          "output_type": "stream",
          "name": "stdout",
          "text": [
            "LogisticRegression() score: 0.7931481481481483\n",
            "DecisionTreeClassifier() score: 0.712037037037037\n"
          ]
        },
        {
          "output_type": "stream",
          "name": "stderr",
          "text": [
            "100%|██████████| 3/3 [00:00<00:00, 10.15it/s]"
          ]
        },
        {
          "output_type": "stream",
          "name": "stdout",
          "text": [
            "RandomForestClassifier() score: 0.8048148148148149\n",
            "Meta AUC: 0.8296296296296297\n"
          ]
        },
        {
          "output_type": "stream",
          "name": "stderr",
          "text": [
            "\n"
          ]
        }
      ]
    },
    {
      "cell_type": "code",
      "source": [
        "test_pred = meta_predict(models, meta_model, x_test)"
      ],
      "metadata": {
        "id": "iVrP9AKtp77Q",
        "colab": {
          "base_uri": "https://localhost:8080/"
        },
        "outputId": "96b225ff-a317-42ef-a03c-0d5fe87e5f15"
      },
      "id": "iVrP9AKtp77Q",
      "execution_count": null,
      "outputs": [
        {
          "output_type": "stream",
          "name": "stderr",
          "text": [
            "100%|██████████| 3/3 [00:00<00:00, 85.39it/s]\n"
          ]
        }
      ]
    },
    {
      "cell_type": "code",
      "source": [
        "test = x_test\n",
        "predictions = pd.DataFrame()\n",
        "predictions[\"claim\"] = test_pred\n",
        "predictions.to_csv('submission.csv', index=False, header=predictions.columns)"
      ],
      "metadata": {
        "id": "DBuBUsfkqoWI"
      },
      "id": "DBuBUsfkqoWI",
      "execution_count": null,
      "outputs": []
    }
  ]
}